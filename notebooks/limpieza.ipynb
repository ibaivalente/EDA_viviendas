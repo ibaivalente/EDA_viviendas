{
 "cells": [
  {
   "cell_type": "code",
   "execution_count": 3,
   "metadata": {},
   "outputs": [],
   "source": [
    "import pandas as pd"
   ]
  },
  {
   "cell_type": "markdown",
   "metadata": {},
   "source": [
    "Este dataset contiene información sobre anuncios de viviendas en Idealista obtenidos en 2019. "
   ]
  },
  {
   "cell_type": "markdown",
   "metadata": {},
   "source": [
    "Tenemos 20 tablas, cada una correspondiente a una provincia diferente de España. Vamos a leer cada uno de los archivos y a meterlos en variables. Todas esas tablas contienen las mismas 36 columnas que analizaremos más adelante."
   ]
  },
  {
   "cell_type": "code",
   "execution_count": 4,
   "metadata": {},
   "outputs": [],
   "source": [
    "alava_df = pd.read_csv('../data/houses_alava.csv')\n",
    "albacete_df = pd.read_csv('../data/houses_albacete.csv')\n",
    "alicante_df = pd.read_csv('../data/houses_alicante.csv')\n",
    "balears_df = pd.read_csv('../data/houses_balears.csv')\n",
    "barcelona_df = pd.read_csv('../data/houses_barcelona.csv')\n",
    "bizkaia_df = pd.read_csv('../data/houses_bizkaia.csv')\n",
    "cadiz_df = pd.read_csv('../data/houses_cadiz.csv')\n",
    "ciudad_real_df = pd.read_csv('../data/houses_ciudad_real.csv')\n",
    "coruna_df = pd.read_csv('../data/houses_coruna.csv')\n",
    "gipuzkoa_df = pd.read_csv('../data/houses_gipuzkoa.csv')\n",
    "girona_df = pd.read_csv('../data/houses_girona.csv')\n",
    "huelva_df = pd.read_csv('../data/houses_huelva.csv')\n",
    "madrid_df = pd.read_csv('../data/houses_madrid.csv')\n",
    "tenerife_df = pd.read_csv('../data/houses_santa_cruz_de_tenerife.csv')\n",
    "segovia_df = pd.read_csv('../data/houses_segovia.csv')\n",
    "sevilla_df = pd.read_csv('../data/houses_sevilla.csv')\n",
    "soria_df = pd.read_csv('../data/houses_soria.csv')\n",
    "valencia_df = pd.read_csv('../data/houses_valencia.csv')\n",
    "valladolid_df = pd.read_csv('../data/houses_valladolid.csv')\n",
    "zamora_df = pd.read_csv('../data/houses_zamora.csv')"
   ]
  },
  {
   "cell_type": "code",
   "execution_count": 3,
   "metadata": {},
   "outputs": [],
   "source": [
    "alava_df = alava_df.reset_index(drop=True)\n",
    "albacete_df = albacete_df.reset_index(drop=True)\n",
    "alicante_df = alicante_df.reset_index(drop=True)\n",
    "balears_df = balears_df.reset_index(drop=True)\n",
    "barcelona_df = barcelona_df.reset_index(drop=True)\n",
    "bizkaia_df = bizkaia_df.reset_index(drop=True)\n",
    "cadiz_df = cadiz_df.reset_index(drop=True)\n",
    "ciudad_real_df = ciudad_real_df.reset_index(drop=True)\n",
    "coruna_df = coruna_df.reset_index(drop=True)\n",
    "gipuzkoa_df = gipuzkoa_df.reset_index(drop=True)\n",
    "girona_df = girona_df.reset_index(drop=True)\n",
    "huelva_df = huelva_df.reset_index(drop=True)\n",
    "madrid_df = madrid_df.reset_index(drop=True)\n",
    "tenerife_df = tenerife_df.reset_index(drop=True)\n",
    "segovia_df = segovia_df.reset_index(drop=True)\n",
    "sevilla_df = sevilla_df.reset_index(drop=True)\n",
    "soria_df = soria_df.reset_index(drop=True)\n",
    "valencia_df = valencia_df.reset_index(drop=True)\n",
    "valladolid_df = valladolid_df.reset_index(drop=True)\n",
    "zamora_df = zamora_df.reset_index(drop=True)"
   ]
  },
  {
   "cell_type": "markdown",
   "metadata": {},
   "source": [
    "Estoy teniendo problemas con el concatenado. He comprobado que todos los dataframe tienen las mismas columnas pero al concatenarlo parece que no está reconociendo los headers de las columnas, entonces al terminar los valores de la primera tabla, vuelven a aparecer los nombres de las columnas, luego siguen los datos de la siguiente tabla y así sucesivamente. Por ello, voy a tener que convertir las celdas en las que vuelven a salir los nombres de las columnas en 0s o caracteres vacíos, dependiendo del tipo de dato, para que no me dé problemas."
   ]
  },
  {
   "cell_type": "code",
   "execution_count": 4,
   "metadata": {},
   "outputs": [],
   "source": [
    "todo_raw = pd.concat([alava_df,albacete_df,alicante_df,balears_df,barcelona_df,bizkaia_df,cadiz_df,ciudad_real_df,coruna_df,gipuzkoa_df,girona_df,huelva_df,madrid_df,tenerife_df,segovia_df,sevilla_df,soria_df,valencia_df,valladolid_df,zamora_df],ignore_index=True)"
   ]
  },
  {
   "cell_type": "code",
   "execution_count": 5,
   "metadata": {},
   "outputs": [
    {
     "name": "stdout",
     "output_type": "stream",
     "text": [
      "<class 'pandas.core.frame.DataFrame'>\n",
      "RangeIndex: 100000 entries, 0 to 99999\n",
      "Data columns (total 36 columns):\n",
      " #   Column             Non-Null Count   Dtype \n",
      "---  ------             --------------   ----- \n",
      " 0   ad_description     95426 non-null   object\n",
      " 1   ad_last_update     100000 non-null  object\n",
      " 2   air_conditioner    100000 non-null  object\n",
      " 3   balcony            100000 non-null  object\n",
      " 4   bath_num           100000 non-null  object\n",
      " 5   built_in_wardrobe  100000 non-null  object\n",
      " 6   chimney            100000 non-null  object\n",
      " 7   condition          86059 non-null   object\n",
      " 8   construct_date     32059 non-null   object\n",
      " 9   energetic_certif   74691 non-null   object\n",
      " 10  floor              79693 non-null   object\n",
      " 11  garage             40811 non-null   object\n",
      " 12  garden             100000 non-null  object\n",
      " 13  ground_size        183 non-null     object\n",
      " 14  heating            25714 non-null   object\n",
      " 15  house_id           100000 non-null  object\n",
      " 16  house_type         100000 non-null  object\n",
      " 17  kitchen            2212 non-null    object\n",
      " 18  lift               58965 non-null   object\n",
      " 19  loc_city           100000 non-null  object\n",
      " 20  loc_district       86253 non-null   object\n",
      " 21  loc_full           100000 non-null  object\n",
      " 22  loc_neigh          43690 non-null   object\n",
      " 23  loc_street         14314 non-null   object\n",
      " 24  loc_zone           100000 non-null  object\n",
      " 25  m2_real            100000 non-null  object\n",
      " 26  m2_useful          52844 non-null   object\n",
      " 27  obtention_date     100000 non-null  object\n",
      " 28  orientation        39415 non-null   object\n",
      " 29  price              100000 non-null  object\n",
      " 30  reduced_mobility   100000 non-null  object\n",
      " 31  room_num           100000 non-null  object\n",
      " 32  storage_room       100000 non-null  object\n",
      " 33  swimming_pool      100000 non-null  object\n",
      " 34  terrace            100000 non-null  object\n",
      " 35  unfurnished        646 non-null     object\n",
      "dtypes: object(36)\n",
      "memory usage: 27.5+ MB\n"
     ]
    }
   ],
   "source": [
    "todo_raw.info()"
   ]
  },
  {
   "cell_type": "markdown",
   "metadata": {},
   "source": [
    "Nuestra tabla general contiene 100 mil entradas en total, distribuidas en 36 columnas. Cambiaremos los nombres a castellano. 16 columnas no tienen todos sus valores completos, es decir, tendremos NaN en ellos. Analizaremos cada una de las columnas para comprobar qué tipo de información contiene y si contiene los valores suficientes para realizar un análisis en condiciones. Además, al hacer la concatenación, Pandas ha homogeneizado todos los tipos de datos y ha fijado todas las columnas en object ya que contenían diferentes tipos de datos dentro de la misma columna. Esto se ha debido al problema en la concatenación, probablemente. Usando nuestra información original tendremos que cambiar los tipos de datos manualmente a cada columna."
   ]
  },
  {
   "cell_type": "markdown",
   "metadata": {},
   "source": [
    "Comenzamos con el análisis de cada columna. Usaremos head para ver las primeras 5 filas y ver el tipo de información que nos proporciona. También comprobaremos la cantidad de valores nulos y estudiaremos cómo podemos llenarlos con otros valores, en caso de ser necesario"
   ]
  },
  {
   "cell_type": "markdown",
   "metadata": {},
   "source": [
    "### COLUMNA: ad_description"
   ]
  },
  {
   "cell_type": "code",
   "execution_count": 6,
   "metadata": {},
   "outputs": [
    {
     "data": {
      "text/html": [
       "<div>\n",
       "<style scoped>\n",
       "    .dataframe tbody tr th:only-of-type {\n",
       "        vertical-align: middle;\n",
       "    }\n",
       "\n",
       "    .dataframe tbody tr th {\n",
       "        vertical-align: top;\n",
       "    }\n",
       "\n",
       "    .dataframe thead th {\n",
       "        text-align: right;\n",
       "    }\n",
       "</style>\n",
       "<table border=\"1\" class=\"dataframe\">\n",
       "  <thead>\n",
       "    <tr style=\"text-align: right;\">\n",
       "      <th></th>\n",
       "      <th>ad_description</th>\n",
       "    </tr>\n",
       "  </thead>\n",
       "  <tbody>\n",
       "    <tr>\n",
       "      <th>0</th>\n",
       "      <td>Precio chalet individual en la localidad de Ab...</td>\n",
       "    </tr>\n",
       "    <tr>\n",
       "      <th>1</th>\n",
       "      <td>Atico de 80m2, para entrar a vivir, con salón ...</td>\n",
       "    </tr>\n",
       "    <tr>\n",
       "      <th>2</th>\n",
       "      <td>B/ Etxaguen. Casa de reciente construcción con...</td>\n",
       "    </tr>\n",
       "    <tr>\n",
       "      <th>3</th>\n",
       "      <td>Se vende vivienda en abornikano (ayuntamiento ...</td>\n",
       "    </tr>\n",
       "    <tr>\n",
       "      <th>4</th>\n",
       "      <td>Negociables.</td>\n",
       "    </tr>\n",
       "  </tbody>\n",
       "</table>\n",
       "</div>"
      ],
      "text/plain": [
       "                                      ad_description\n",
       "0  Precio chalet individual en la localidad de Ab...\n",
       "1  Atico de 80m2, para entrar a vivir, con salón ...\n",
       "2  B/ Etxaguen. Casa de reciente construcción con...\n",
       "3  Se vende vivienda en abornikano (ayuntamiento ...\n",
       "4                                       Negociables."
      ]
     },
     "execution_count": 6,
     "metadata": {},
     "output_type": "execute_result"
    }
   ],
   "source": [
    "todo_raw[['ad_description']].head()"
   ]
  },
  {
   "cell_type": "code",
   "execution_count": 7,
   "metadata": {},
   "outputs": [
    {
     "name": "stdout",
     "output_type": "stream",
     "text": [
      "Cantidad de valores únicos\n",
      "86150 \n",
      "\n",
      "Cantidad de valores NaN\n",
      "4574 \n",
      "\n",
      "Porcentaje de valores NaN sobre el total\n",
      "4.574\n"
     ]
    }
   ],
   "source": [
    "print('Cantidad de valores únicos')\n",
    "print(todo_raw['ad_description'].nunique(), '\\n')\n",
    "print('Cantidad de valores NaN')\n",
    "print(todo_raw['ad_description'].isna().sum(), '\\n')\n",
    "print('Porcentaje de valores NaN sobre el total')\n",
    "print(todo_raw['ad_description'].isna().mean()*100)"
   ]
  },
  {
   "cell_type": "code",
   "execution_count": 8,
   "metadata": {},
   "outputs": [
    {
     "data": {
      "text/plain": [
       "array(['Precio chalet individual en la localidad de Abornikano a 3 kms de Izarra donde podemos tener todos los servivios. Situado en un precioso entorno. La vivienda dispone en planta baja de salon con chimenea, cocina equipada y dormitorio y baño. Desde la misma planta accedemos a un garaje cerrado. La primera planta se distribuye en tres dormitiros y baño. La vivienda dispone de porche, leñera y se encuentra preparada para empezar a vivir.',\n",
       "       'Atico de 80m2, para entrar a vivir, con salón amueblado y velux en el techo, 3 dormitorios (uno de ellos amueblado y con velux en el techo), 2 baños y cocina equipada. - Velux de 1,401, 50, con apertura de ventana y persiana con mando a distancia. -cuenta con preinstalación para chimenea de leña. -caldera individual de gas.',\n",
       "       'B/ Etxaguen. Casa de reciente construcción con muchas posibilidades, 360m2 mas 140m2 ampliables, soleada, situada en el parque natural de Ukiola con excelentes vistas. Con 3000m2 de terreno. A 40minitos de las tres capitales. Playa a unos 50 kilometros. Garaje. Trastero. Terraza. Calefacción. Jardín. CE: A.',\n",
       "       ..., 'casa de pueblo con patio.',\n",
       "       'Superf. 2299 m², 1090 m² solar, 10 habitaciones (10 dobles), jardín (patio 1.090 m2), año construcción (1908), casa en 2 plantas para gran reforma o para tirar y utilizar como solar. Ademas dispone de un terreno proximo de 1.899 m2. La casa tiene 34 metros de fachada a calle..',\n",
       "       'Inmueble de 89 m² ubicado en ZAMORA (Zamora).'], dtype=object)"
      ]
     },
     "execution_count": 8,
     "metadata": {},
     "output_type": "execute_result"
    }
   ],
   "source": [
    "todo_raw['ad_description'].unique()"
   ]
  },
  {
   "cell_type": "code",
   "execution_count": 9,
   "metadata": {},
   "outputs": [],
   "source": [
    "todo_raw.loc[todo_raw['ad_description']=='ad_description','ad_description'] = 'indefinido'"
   ]
  },
  {
   "cell_type": "code",
   "execution_count": 10,
   "metadata": {},
   "outputs": [],
   "source": [
    "todo_raw['ad_description'] = todo_raw['ad_description'].fillna('indefinido')\n",
    "todo_raw['ad_description'] = todo_raw['ad_description'].astype(str)"
   ]
  },
  {
   "cell_type": "markdown",
   "metadata": {},
   "source": [
    "## NO BORRAR PUEDE SER INTERESANTE"
   ]
  },
  {
   "cell_type": "markdown",
   "metadata": {},
   "source": [
    "Vemos que la columna contiene una descripción de la vivienda que no nos da mucha información para nuestro análisis, por lo que la eliminaremos."
   ]
  },
  {
   "cell_type": "markdown",
   "metadata": {},
   "source": [
    "### COLUMNA: ad_last_update"
   ]
  },
  {
   "cell_type": "code",
   "execution_count": 11,
   "metadata": {},
   "outputs": [
    {
     "data": {
      "text/html": [
       "<div>\n",
       "<style scoped>\n",
       "    .dataframe tbody tr th:only-of-type {\n",
       "        vertical-align: middle;\n",
       "    }\n",
       "\n",
       "    .dataframe tbody tr th {\n",
       "        vertical-align: top;\n",
       "    }\n",
       "\n",
       "    .dataframe thead th {\n",
       "        text-align: right;\n",
       "    }\n",
       "</style>\n",
       "<table border=\"1\" class=\"dataframe\">\n",
       "  <thead>\n",
       "    <tr style=\"text-align: right;\">\n",
       "      <th></th>\n",
       "      <th>ad_last_update</th>\n",
       "    </tr>\n",
       "  </thead>\n",
       "  <tbody>\n",
       "    <tr>\n",
       "      <th>0</th>\n",
       "      <td>Anuncio actualizado el 27 de marzo</td>\n",
       "    </tr>\n",
       "    <tr>\n",
       "      <th>1</th>\n",
       "      <td>más de 5 meses sin actualizar</td>\n",
       "    </tr>\n",
       "    <tr>\n",
       "      <th>2</th>\n",
       "      <td>más de 5 meses sin actualizar</td>\n",
       "    </tr>\n",
       "    <tr>\n",
       "      <th>3</th>\n",
       "      <td>más de 5 meses sin actualizar</td>\n",
       "    </tr>\n",
       "    <tr>\n",
       "      <th>4</th>\n",
       "      <td>más de 5 meses sin actualizar</td>\n",
       "    </tr>\n",
       "  </tbody>\n",
       "</table>\n",
       "</div>"
      ],
      "text/plain": [
       "                       ad_last_update\n",
       "0  Anuncio actualizado el 27 de marzo\n",
       "1       más de 5 meses sin actualizar\n",
       "2       más de 5 meses sin actualizar\n",
       "3       más de 5 meses sin actualizar\n",
       "4       más de 5 meses sin actualizar"
      ]
     },
     "execution_count": 11,
     "metadata": {},
     "output_type": "execute_result"
    }
   ],
   "source": [
    "todo_raw[['ad_last_update']].head()"
   ]
  },
  {
   "cell_type": "markdown",
   "metadata": {},
   "source": [
    "Vemos que la columna contiene un string con la fecha de última actualización de la vivienda. Teniendo en cuenta que los datos son de 2019 esta columna no nos da mucha información para nuestro análisis, por lo que la eliminaremos."
   ]
  },
  {
   "cell_type": "code",
   "execution_count": 12,
   "metadata": {},
   "outputs": [],
   "source": [
    "todo_raw = todo_raw.drop(columns=['ad_last_update'])"
   ]
  },
  {
   "cell_type": "markdown",
   "metadata": {},
   "source": [
    "### COLUMNA: air_conditioner"
   ]
  },
  {
   "cell_type": "code",
   "execution_count": 13,
   "metadata": {},
   "outputs": [
    {
     "data": {
      "text/html": [
       "<div>\n",
       "<style scoped>\n",
       "    .dataframe tbody tr th:only-of-type {\n",
       "        vertical-align: middle;\n",
       "    }\n",
       "\n",
       "    .dataframe tbody tr th {\n",
       "        vertical-align: top;\n",
       "    }\n",
       "\n",
       "    .dataframe thead th {\n",
       "        text-align: right;\n",
       "    }\n",
       "</style>\n",
       "<table border=\"1\" class=\"dataframe\">\n",
       "  <thead>\n",
       "    <tr style=\"text-align: right;\">\n",
       "      <th></th>\n",
       "      <th>air_conditioner</th>\n",
       "    </tr>\n",
       "  </thead>\n",
       "  <tbody>\n",
       "    <tr>\n",
       "      <th>0</th>\n",
       "      <td>0</td>\n",
       "    </tr>\n",
       "    <tr>\n",
       "      <th>1</th>\n",
       "      <td>0</td>\n",
       "    </tr>\n",
       "    <tr>\n",
       "      <th>2</th>\n",
       "      <td>0</td>\n",
       "    </tr>\n",
       "    <tr>\n",
       "      <th>3</th>\n",
       "      <td>0</td>\n",
       "    </tr>\n",
       "    <tr>\n",
       "      <th>4</th>\n",
       "      <td>0</td>\n",
       "    </tr>\n",
       "  </tbody>\n",
       "</table>\n",
       "</div>"
      ],
      "text/plain": [
       "  air_conditioner\n",
       "0               0\n",
       "1               0\n",
       "2               0\n",
       "3               0\n",
       "4               0"
      ]
     },
     "execution_count": 13,
     "metadata": {},
     "output_type": "execute_result"
    }
   ],
   "source": [
    "todo_raw[['air_conditioner']].head()"
   ]
  },
  {
   "cell_type": "code",
   "execution_count": 14,
   "metadata": {},
   "outputs": [
    {
     "name": "stdout",
     "output_type": "stream",
     "text": [
      "Cantidad de valores únicos\n",
      "5 \n",
      "\n",
      "Cantidad de valores NaN\n",
      "0 \n",
      "\n",
      "Porcentaje de valores NaN sobre el total\n",
      "0.0\n"
     ]
    }
   ],
   "source": [
    "print('Cantidad de valores únicos')\n",
    "print(todo_raw['air_conditioner'].nunique(), '\\n')\n",
    "print('Cantidad de valores NaN')\n",
    "print(todo_raw['air_conditioner'].isna().sum(), '\\n')\n",
    "print('Porcentaje de valores NaN sobre el total')\n",
    "print(todo_raw['air_conditioner'].isna().mean()*100)"
   ]
  },
  {
   "cell_type": "code",
   "execution_count": 15,
   "metadata": {},
   "outputs": [
    {
     "data": {
      "text/plain": [
       "array([0, 1, '0', '1', 'air_conditioner'], dtype=object)"
      ]
     },
     "execution_count": 15,
     "metadata": {},
     "output_type": "execute_result"
    }
   ],
   "source": [
    "todo_raw['air_conditioner'].unique()\n",
    "#queremos pasar esta información a booleanos"
   ]
  },
  {
   "cell_type": "code",
   "execution_count": 16,
   "metadata": {},
   "outputs": [],
   "source": [
    "todo_raw.loc[todo_raw['air_conditioner']=='air_conditioner','air_conditioner'] = 0\n",
    "todo_raw.loc[todo_raw['air_conditioner']=='0','air_conditioner'] = 0\n",
    "todo_raw.loc[todo_raw['air_conditioner']=='1','air_conditioner'] = 1"
   ]
  },
  {
   "cell_type": "code",
   "execution_count": 17,
   "metadata": {},
   "outputs": [],
   "source": [
    "todo_raw['air_conditioner'] = todo_raw['air_conditioner'].fillna(0)\n",
    "todo_raw['air_conditioner'] = todo_raw['air_conditioner'].astype(bool)"
   ]
  },
  {
   "cell_type": "markdown",
   "metadata": {},
   "source": [
    "### COLUMNA: balcony"
   ]
  },
  {
   "cell_type": "code",
   "execution_count": 18,
   "metadata": {},
   "outputs": [
    {
     "data": {
      "text/html": [
       "<div>\n",
       "<style scoped>\n",
       "    .dataframe tbody tr th:only-of-type {\n",
       "        vertical-align: middle;\n",
       "    }\n",
       "\n",
       "    .dataframe tbody tr th {\n",
       "        vertical-align: top;\n",
       "    }\n",
       "\n",
       "    .dataframe thead th {\n",
       "        text-align: right;\n",
       "    }\n",
       "</style>\n",
       "<table border=\"1\" class=\"dataframe\">\n",
       "  <thead>\n",
       "    <tr style=\"text-align: right;\">\n",
       "      <th></th>\n",
       "      <th>balcony</th>\n",
       "    </tr>\n",
       "  </thead>\n",
       "  <tbody>\n",
       "    <tr>\n",
       "      <th>0</th>\n",
       "      <td>0</td>\n",
       "    </tr>\n",
       "    <tr>\n",
       "      <th>1</th>\n",
       "      <td>0</td>\n",
       "    </tr>\n",
       "    <tr>\n",
       "      <th>2</th>\n",
       "      <td>0</td>\n",
       "    </tr>\n",
       "    <tr>\n",
       "      <th>3</th>\n",
       "      <td>1</td>\n",
       "    </tr>\n",
       "    <tr>\n",
       "      <th>4</th>\n",
       "      <td>0</td>\n",
       "    </tr>\n",
       "  </tbody>\n",
       "</table>\n",
       "</div>"
      ],
      "text/plain": [
       "  balcony\n",
       "0       0\n",
       "1       0\n",
       "2       0\n",
       "3       1\n",
       "4       0"
      ]
     },
     "execution_count": 18,
     "metadata": {},
     "output_type": "execute_result"
    }
   ],
   "source": [
    "todo_raw[['balcony']].head()"
   ]
  },
  {
   "cell_type": "code",
   "execution_count": 19,
   "metadata": {},
   "outputs": [
    {
     "name": "stdout",
     "output_type": "stream",
     "text": [
      "Cantidad de valores únicos\n",
      "5 \n",
      "\n",
      "Cantidad de valores NaN\n",
      "0 \n",
      "\n",
      "Porcentaje de valores NaN sobre el total\n",
      "0.0\n"
     ]
    }
   ],
   "source": [
    "print('Cantidad de valores únicos')\n",
    "print(todo_raw['balcony'].nunique(), '\\n')\n",
    "print('Cantidad de valores NaN')\n",
    "print(todo_raw['balcony'].isna().sum(), '\\n')\n",
    "print('Porcentaje de valores NaN sobre el total')\n",
    "print(todo_raw['balcony'].isna().mean()*100)"
   ]
  },
  {
   "cell_type": "code",
   "execution_count": 20,
   "metadata": {},
   "outputs": [
    {
     "data": {
      "text/plain": [
       "array([0, 1, '0', '1', 'balcony'], dtype=object)"
      ]
     },
     "execution_count": 20,
     "metadata": {},
     "output_type": "execute_result"
    }
   ],
   "source": [
    "todo_raw['balcony'].unique()\n",
    "#queremos pasar esta información a booleanos"
   ]
  },
  {
   "cell_type": "code",
   "execution_count": 21,
   "metadata": {},
   "outputs": [],
   "source": [
    "todo_raw.loc[todo_raw['balcony'] == 'balcony', 'balcony'] = 0\n",
    "todo_raw.loc[todo_raw['balcony'] == '0', 'balcony'] = 0\n",
    "todo_raw.loc[todo_raw['balcony'] == '1', 'balcony'] = 1"
   ]
  },
  {
   "cell_type": "code",
   "execution_count": 22,
   "metadata": {},
   "outputs": [],
   "source": [
    "todo_raw['balcony'] = todo_raw['balcony'].fillna(0)\n",
    "todo_raw['balcony'] = todo_raw['balcony'].astype(bool)"
   ]
  },
  {
   "cell_type": "markdown",
   "metadata": {},
   "source": [
    "### COLUMNA: bath_num"
   ]
  },
  {
   "cell_type": "code",
   "execution_count": 23,
   "metadata": {},
   "outputs": [
    {
     "data": {
      "text/html": [
       "<div>\n",
       "<style scoped>\n",
       "    .dataframe tbody tr th:only-of-type {\n",
       "        vertical-align: middle;\n",
       "    }\n",
       "\n",
       "    .dataframe tbody tr th {\n",
       "        vertical-align: top;\n",
       "    }\n",
       "\n",
       "    .dataframe thead th {\n",
       "        text-align: right;\n",
       "    }\n",
       "</style>\n",
       "<table border=\"1\" class=\"dataframe\">\n",
       "  <thead>\n",
       "    <tr style=\"text-align: right;\">\n",
       "      <th></th>\n",
       "      <th>bath_num</th>\n",
       "    </tr>\n",
       "  </thead>\n",
       "  <tbody>\n",
       "    <tr>\n",
       "      <th>0</th>\n",
       "      <td>2</td>\n",
       "    </tr>\n",
       "    <tr>\n",
       "      <th>1</th>\n",
       "      <td>2</td>\n",
       "    </tr>\n",
       "    <tr>\n",
       "      <th>2</th>\n",
       "      <td>3</td>\n",
       "    </tr>\n",
       "    <tr>\n",
       "      <th>3</th>\n",
       "      <td>1</td>\n",
       "    </tr>\n",
       "    <tr>\n",
       "      <th>4</th>\n",
       "      <td>1</td>\n",
       "    </tr>\n",
       "  </tbody>\n",
       "</table>\n",
       "</div>"
      ],
      "text/plain": [
       "  bath_num\n",
       "0        2\n",
       "1        2\n",
       "2        3\n",
       "3        1\n",
       "4        1"
      ]
     },
     "execution_count": 23,
     "metadata": {},
     "output_type": "execute_result"
    }
   ],
   "source": [
    "todo_raw[['bath_num']].head()"
   ]
  },
  {
   "cell_type": "code",
   "execution_count": 24,
   "metadata": {},
   "outputs": [
    {
     "name": "stdout",
     "output_type": "stream",
     "text": [
      "Cantidad de valores únicos\n",
      "30 \n",
      "\n",
      "Cantidad de valores NaN\n",
      "0 \n",
      "\n",
      "Porcentaje de valores NaN sobre el total\n",
      "0.0\n"
     ]
    }
   ],
   "source": [
    "print('Cantidad de valores únicos')\n",
    "print(todo_raw['bath_num'].nunique(), '\\n')\n",
    "print('Cantidad de valores NaN')\n",
    "print(todo_raw['bath_num'].isna().sum(), '\\n')\n",
    "print('Porcentaje de valores NaN sobre el total')\n",
    "print(todo_raw['bath_num'].isna().mean()*100)"
   ]
  },
  {
   "cell_type": "code",
   "execution_count": 25,
   "metadata": {},
   "outputs": [
    {
     "data": {
      "text/plain": [
       "array(['2', '3', '1', '4', '7', '6', '15', '5', 'sin baños', '8', '10',\n",
       "       '34', '11', '9', '38', 'bath_num', '14', '12', '13', '20', '84',\n",
       "       '16', '19', '23', '32', '18', '17', '30', '58', '75'], dtype=object)"
      ]
     },
     "execution_count": 25,
     "metadata": {},
     "output_type": "execute_result"
    }
   ],
   "source": [
    "todo_raw['bath_num'].unique()"
   ]
  },
  {
   "cell_type": "code",
   "execution_count": 26,
   "metadata": {},
   "outputs": [],
   "source": [
    "todo_raw.loc[todo_raw['bath_num'] == 'sin baños', 'bath_num'] = 0\n",
    "todo_raw.loc[todo_raw['bath_num'] == 'bath_num', 'bath_num'] = 0"
   ]
  },
  {
   "cell_type": "code",
   "execution_count": 27,
   "metadata": {},
   "outputs": [],
   "source": [
    "todo_raw['bath_num'] = todo_raw['bath_num'].fillna(0)\n",
    "todo_raw['bath_num'] = todo_raw['bath_num'].astype(int)"
   ]
  },
  {
   "cell_type": "markdown",
   "metadata": {},
   "source": [
    "### COLUMNA: built_in_wardrobe"
   ]
  },
  {
   "cell_type": "code",
   "execution_count": 28,
   "metadata": {},
   "outputs": [
    {
     "data": {
      "text/html": [
       "<div>\n",
       "<style scoped>\n",
       "    .dataframe tbody tr th:only-of-type {\n",
       "        vertical-align: middle;\n",
       "    }\n",
       "\n",
       "    .dataframe tbody tr th {\n",
       "        vertical-align: top;\n",
       "    }\n",
       "\n",
       "    .dataframe thead th {\n",
       "        text-align: right;\n",
       "    }\n",
       "</style>\n",
       "<table border=\"1\" class=\"dataframe\">\n",
       "  <thead>\n",
       "    <tr style=\"text-align: right;\">\n",
       "      <th></th>\n",
       "      <th>built_in_wardrobe</th>\n",
       "    </tr>\n",
       "  </thead>\n",
       "  <tbody>\n",
       "    <tr>\n",
       "      <th>0</th>\n",
       "      <td>0</td>\n",
       "    </tr>\n",
       "    <tr>\n",
       "      <th>1</th>\n",
       "      <td>0</td>\n",
       "    </tr>\n",
       "    <tr>\n",
       "      <th>2</th>\n",
       "      <td>0</td>\n",
       "    </tr>\n",
       "    <tr>\n",
       "      <th>3</th>\n",
       "      <td>1</td>\n",
       "    </tr>\n",
       "    <tr>\n",
       "      <th>4</th>\n",
       "      <td>0</td>\n",
       "    </tr>\n",
       "  </tbody>\n",
       "</table>\n",
       "</div>"
      ],
      "text/plain": [
       "  built_in_wardrobe\n",
       "0                 0\n",
       "1                 0\n",
       "2                 0\n",
       "3                 1\n",
       "4                 0"
      ]
     },
     "execution_count": 28,
     "metadata": {},
     "output_type": "execute_result"
    }
   ],
   "source": [
    "todo_raw[['built_in_wardrobe']].head()"
   ]
  },
  {
   "cell_type": "code",
   "execution_count": 29,
   "metadata": {},
   "outputs": [
    {
     "name": "stdout",
     "output_type": "stream",
     "text": [
      "Cantidad de valores únicos\n",
      "5 \n",
      "\n",
      "Cantidad de valores NaN\n",
      "0 \n",
      "\n",
      "Porcentaje de valores NaN sobre el total\n",
      "0.0\n"
     ]
    }
   ],
   "source": [
    "print('Cantidad de valores únicos')\n",
    "print(todo_raw['built_in_wardrobe'].nunique(), '\\n')\n",
    "print('Cantidad de valores NaN')\n",
    "print(todo_raw['built_in_wardrobe'].isna().sum(), '\\n')\n",
    "print('Porcentaje de valores NaN sobre el total')\n",
    "print(todo_raw['built_in_wardrobe'].isna().mean()*100)"
   ]
  },
  {
   "cell_type": "code",
   "execution_count": 30,
   "metadata": {},
   "outputs": [
    {
     "data": {
      "text/plain": [
       "array([0, 1, '1', '0', 'built_in_wardrobe'], dtype=object)"
      ]
     },
     "execution_count": 30,
     "metadata": {},
     "output_type": "execute_result"
    }
   ],
   "source": [
    "todo_raw['built_in_wardrobe'].unique()"
   ]
  },
  {
   "cell_type": "code",
   "execution_count": 31,
   "metadata": {},
   "outputs": [],
   "source": [
    "todo_raw.loc[todo_raw['built_in_wardrobe'] == 'built_in_wardrobe', 'built_in_wardrobe'] = 0\n",
    "todo_raw.loc[todo_raw['built_in_wardrobe'] == '0', 'built_in_wardrobe'] = 0\n",
    "todo_raw.loc[todo_raw['built_in_wardrobe'] == '1', 'built_in_wardrobe'] = 1"
   ]
  },
  {
   "cell_type": "code",
   "execution_count": 32,
   "metadata": {},
   "outputs": [],
   "source": [
    "todo_raw['built_in_wardrobe'] = todo_raw['built_in_wardrobe'].fillna(0)\n",
    "todo_raw['built_in_wardrobe'] = todo_raw['built_in_wardrobe'].astype(bool)"
   ]
  },
  {
   "cell_type": "markdown",
   "metadata": {},
   "source": [
    "### OLUMNA: chimney"
   ]
  },
  {
   "cell_type": "code",
   "execution_count": 33,
   "metadata": {},
   "outputs": [
    {
     "data": {
      "text/html": [
       "<div>\n",
       "<style scoped>\n",
       "    .dataframe tbody tr th:only-of-type {\n",
       "        vertical-align: middle;\n",
       "    }\n",
       "\n",
       "    .dataframe tbody tr th {\n",
       "        vertical-align: top;\n",
       "    }\n",
       "\n",
       "    .dataframe thead th {\n",
       "        text-align: right;\n",
       "    }\n",
       "</style>\n",
       "<table border=\"1\" class=\"dataframe\">\n",
       "  <thead>\n",
       "    <tr style=\"text-align: right;\">\n",
       "      <th></th>\n",
       "      <th>chimney</th>\n",
       "    </tr>\n",
       "  </thead>\n",
       "  <tbody>\n",
       "    <tr>\n",
       "      <th>0</th>\n",
       "      <td>0</td>\n",
       "    </tr>\n",
       "    <tr>\n",
       "      <th>1</th>\n",
       "      <td>0</td>\n",
       "    </tr>\n",
       "    <tr>\n",
       "      <th>2</th>\n",
       "      <td>0</td>\n",
       "    </tr>\n",
       "    <tr>\n",
       "      <th>3</th>\n",
       "      <td>1</td>\n",
       "    </tr>\n",
       "    <tr>\n",
       "      <th>4</th>\n",
       "      <td>0</td>\n",
       "    </tr>\n",
       "  </tbody>\n",
       "</table>\n",
       "</div>"
      ],
      "text/plain": [
       "  chimney\n",
       "0       0\n",
       "1       0\n",
       "2       0\n",
       "3       1\n",
       "4       0"
      ]
     },
     "execution_count": 33,
     "metadata": {},
     "output_type": "execute_result"
    }
   ],
   "source": [
    "todo_raw[['chimney']].head()"
   ]
  },
  {
   "cell_type": "code",
   "execution_count": 34,
   "metadata": {},
   "outputs": [
    {
     "name": "stdout",
     "output_type": "stream",
     "text": [
      "Cantidad de valores únicos\n",
      "5 \n",
      "\n",
      "Cantidad de valores NaN\n",
      "0 \n",
      "\n",
      "Porcentaje de valores NaN sobre el total\n",
      "0.0\n"
     ]
    }
   ],
   "source": [
    "print('Cantidad de valores únicos')\n",
    "print(todo_raw['chimney'].nunique(), '\\n')\n",
    "print('Cantidad de valores NaN')\n",
    "print(todo_raw['chimney'].isna().sum(), '\\n')\n",
    "print('Porcentaje de valores NaN sobre el total')\n",
    "print(todo_raw['chimney'].isna().mean()*100)"
   ]
  },
  {
   "cell_type": "code",
   "execution_count": 35,
   "metadata": {},
   "outputs": [
    {
     "data": {
      "text/plain": [
       "array([0, 1, '0', '1', 'chimney'], dtype=object)"
      ]
     },
     "execution_count": 35,
     "metadata": {},
     "output_type": "execute_result"
    }
   ],
   "source": [
    "todo_raw['chimney'].unique()"
   ]
  },
  {
   "cell_type": "code",
   "execution_count": 36,
   "metadata": {},
   "outputs": [],
   "source": [
    "todo_raw.loc[todo_raw['chimney'] == 'chimney', 'chimney'] = 0\n",
    "todo_raw.loc[todo_raw['chimney'] == '0', 'chimney'] = 0\n",
    "todo_raw.loc[todo_raw['chimney'] == '1', 'chimney'] = 1"
   ]
  },
  {
   "cell_type": "code",
   "execution_count": 37,
   "metadata": {},
   "outputs": [],
   "source": [
    "todo_raw['chimney'] = todo_raw['chimney'].fillna(0)\n",
    "todo_raw['chimney'] = todo_raw['chimney'].astype(bool)"
   ]
  },
  {
   "cell_type": "markdown",
   "metadata": {},
   "source": [
    "### COLUMNA: condition"
   ]
  },
  {
   "cell_type": "code",
   "execution_count": 38,
   "metadata": {},
   "outputs": [
    {
     "data": {
      "text/html": [
       "<div>\n",
       "<style scoped>\n",
       "    .dataframe tbody tr th:only-of-type {\n",
       "        vertical-align: middle;\n",
       "    }\n",
       "\n",
       "    .dataframe tbody tr th {\n",
       "        vertical-align: top;\n",
       "    }\n",
       "\n",
       "    .dataframe thead th {\n",
       "        text-align: right;\n",
       "    }\n",
       "</style>\n",
       "<table border=\"1\" class=\"dataframe\">\n",
       "  <thead>\n",
       "    <tr style=\"text-align: right;\">\n",
       "      <th></th>\n",
       "      <th>condition</th>\n",
       "    </tr>\n",
       "  </thead>\n",
       "  <tbody>\n",
       "    <tr>\n",
       "      <th>0</th>\n",
       "      <td>segunda mano/buen estado</td>\n",
       "    </tr>\n",
       "    <tr>\n",
       "      <th>1</th>\n",
       "      <td>segunda mano/buen estado</td>\n",
       "    </tr>\n",
       "    <tr>\n",
       "      <th>2</th>\n",
       "      <td>segunda mano/buen estado</td>\n",
       "    </tr>\n",
       "    <tr>\n",
       "      <th>3</th>\n",
       "      <td>segunda mano/buen estado</td>\n",
       "    </tr>\n",
       "    <tr>\n",
       "      <th>4</th>\n",
       "      <td>segunda mano/buen estado</td>\n",
       "    </tr>\n",
       "  </tbody>\n",
       "</table>\n",
       "</div>"
      ],
      "text/plain": [
       "                  condition\n",
       "0  segunda mano/buen estado\n",
       "1  segunda mano/buen estado\n",
       "2  segunda mano/buen estado\n",
       "3  segunda mano/buen estado\n",
       "4  segunda mano/buen estado"
      ]
     },
     "execution_count": 38,
     "metadata": {},
     "output_type": "execute_result"
    }
   ],
   "source": [
    "todo_raw[['condition']].head()"
   ]
  },
  {
   "cell_type": "code",
   "execution_count": 39,
   "metadata": {},
   "outputs": [
    {
     "name": "stdout",
     "output_type": "stream",
     "text": [
      "Cantidad de valores únicos\n",
      "4 \n",
      "\n",
      "Cantidad de valores NaN\n",
      "13941 \n",
      "\n",
      "Porcentaje de valores NaN sobre el total\n",
      "13.941\n"
     ]
    }
   ],
   "source": [
    "print('Cantidad de valores únicos')\n",
    "print(todo_raw['condition'].nunique(), '\\n')\n",
    "print('Cantidad de valores NaN')\n",
    "print(todo_raw['condition'].isna().sum(), '\\n')\n",
    "print('Porcentaje de valores NaN sobre el total')\n",
    "print(todo_raw['condition'].isna().mean()*100)"
   ]
  },
  {
   "cell_type": "code",
   "execution_count": 40,
   "metadata": {},
   "outputs": [
    {
     "data": {
      "text/plain": [
       "array(['segunda mano/buen estado', 'segunda mano/para reformar', nan,\n",
       "       'promoción de obra nueva', 'condition'], dtype=object)"
      ]
     },
     "execution_count": 40,
     "metadata": {},
     "output_type": "execute_result"
    }
   ],
   "source": [
    "todo_raw['condition'].unique()"
   ]
  },
  {
   "cell_type": "code",
   "execution_count": 41,
   "metadata": {},
   "outputs": [],
   "source": [
    "todo_raw.loc[todo_raw['condition'] == 'condition', 'condition'] = 'indefinido'"
   ]
  },
  {
   "cell_type": "code",
   "execution_count": 42,
   "metadata": {},
   "outputs": [],
   "source": [
    "todo_raw['condition'] = todo_raw['condition'].fillna('indefinido')\n",
    "todo_raw['condition'] = todo_raw['condition'].astype(str)"
   ]
  },
  {
   "cell_type": "markdown",
   "metadata": {},
   "source": [
    "### COLUMNA: construct_date"
   ]
  },
  {
   "cell_type": "code",
   "execution_count": 43,
   "metadata": {},
   "outputs": [
    {
     "data": {
      "text/html": [
       "<div>\n",
       "<style scoped>\n",
       "    .dataframe tbody tr th:only-of-type {\n",
       "        vertical-align: middle;\n",
       "    }\n",
       "\n",
       "    .dataframe tbody tr th {\n",
       "        vertical-align: top;\n",
       "    }\n",
       "\n",
       "    .dataframe thead th {\n",
       "        text-align: right;\n",
       "    }\n",
       "</style>\n",
       "<table border=\"1\" class=\"dataframe\">\n",
       "  <thead>\n",
       "    <tr style=\"text-align: right;\">\n",
       "      <th></th>\n",
       "      <th>construct_date</th>\n",
       "    </tr>\n",
       "  </thead>\n",
       "  <tbody>\n",
       "    <tr>\n",
       "      <th>0</th>\n",
       "      <td>NaN</td>\n",
       "    </tr>\n",
       "    <tr>\n",
       "      <th>1</th>\n",
       "      <td>2006.0</td>\n",
       "    </tr>\n",
       "    <tr>\n",
       "      <th>2</th>\n",
       "      <td>NaN</td>\n",
       "    </tr>\n",
       "    <tr>\n",
       "      <th>3</th>\n",
       "      <td>NaN</td>\n",
       "    </tr>\n",
       "    <tr>\n",
       "      <th>4</th>\n",
       "      <td>NaN</td>\n",
       "    </tr>\n",
       "  </tbody>\n",
       "</table>\n",
       "</div>"
      ],
      "text/plain": [
       "  construct_date\n",
       "0            NaN\n",
       "1         2006.0\n",
       "2            NaN\n",
       "3            NaN\n",
       "4            NaN"
      ]
     },
     "execution_count": 43,
     "metadata": {},
     "output_type": "execute_result"
    }
   ],
   "source": [
    "todo_raw[['construct_date']].head()"
   ]
  },
  {
   "cell_type": "code",
   "execution_count": 44,
   "metadata": {},
   "outputs": [
    {
     "name": "stdout",
     "output_type": "stream",
     "text": [
      "Cantidad de valores únicos\n",
      "355 \n",
      "\n",
      "Cantidad de valores NaN\n",
      "67941 \n",
      "\n",
      "Porcentaje de valores NaN sobre el total\n",
      "67.941\n"
     ]
    }
   ],
   "source": [
    "print('Cantidad de valores únicos')\n",
    "print(todo_raw['construct_date'].nunique(), '\\n')\n",
    "print('Cantidad de valores NaN')\n",
    "print(todo_raw['construct_date'].isna().sum(), '\\n')\n",
    "print('Porcentaje de valores NaN sobre el total')\n",
    "print(todo_raw['construct_date'].isna().mean()*100)"
   ]
  },
  {
   "cell_type": "markdown",
   "metadata": {},
   "source": [
    "Tenemos un porcentaje demasiado alto de nulos así que eliminaremos esta columna"
   ]
  },
  {
   "cell_type": "code",
   "execution_count": 45,
   "metadata": {},
   "outputs": [],
   "source": [
    "todo_raw = todo_raw.drop(columns=['construct_date'])"
   ]
  },
  {
   "cell_type": "markdown",
   "metadata": {},
   "source": [
    "### COLUMNA: energetic_certif"
   ]
  },
  {
   "cell_type": "code",
   "execution_count": 46,
   "metadata": {},
   "outputs": [
    {
     "data": {
      "text/html": [
       "<div>\n",
       "<style scoped>\n",
       "    .dataframe tbody tr th:only-of-type {\n",
       "        vertical-align: middle;\n",
       "    }\n",
       "\n",
       "    .dataframe tbody tr th {\n",
       "        vertical-align: top;\n",
       "    }\n",
       "\n",
       "    .dataframe thead th {\n",
       "        text-align: right;\n",
       "    }\n",
       "</style>\n",
       "<table border=\"1\" class=\"dataframe\">\n",
       "  <thead>\n",
       "    <tr style=\"text-align: right;\">\n",
       "      <th></th>\n",
       "      <th>energetic_certif</th>\n",
       "    </tr>\n",
       "  </thead>\n",
       "  <tbody>\n",
       "    <tr>\n",
       "      <th>0</th>\n",
       "      <td>NaN</td>\n",
       "    </tr>\n",
       "    <tr>\n",
       "      <th>1</th>\n",
       "      <td>no indicado</td>\n",
       "    </tr>\n",
       "    <tr>\n",
       "      <th>2</th>\n",
       "      <td>no indicado</td>\n",
       "    </tr>\n",
       "    <tr>\n",
       "      <th>3</th>\n",
       "      <td>en trámite</td>\n",
       "    </tr>\n",
       "    <tr>\n",
       "      <th>4</th>\n",
       "      <td>no indicado</td>\n",
       "    </tr>\n",
       "  </tbody>\n",
       "</table>\n",
       "</div>"
      ],
      "text/plain": [
       "  energetic_certif\n",
       "0              NaN\n",
       "1      no indicado\n",
       "2      no indicado\n",
       "3       en trámite\n",
       "4      no indicado"
      ]
     },
     "execution_count": 46,
     "metadata": {},
     "output_type": "execute_result"
    }
   ],
   "source": [
    "todo_raw[['energetic_certif']].head()"
   ]
  },
  {
   "cell_type": "code",
   "execution_count": 47,
   "metadata": {},
   "outputs": [
    {
     "name": "stdout",
     "output_type": "stream",
     "text": [
      "Cantidad de valores únicos\n",
      "4 \n",
      "\n",
      "Cantidad de valores NaN\n",
      "25309 \n",
      "\n",
      "Porcentaje de valores NaN sobre el total\n",
      "25.308999999999997\n"
     ]
    }
   ],
   "source": [
    "print('Cantidad de valores únicos')\n",
    "print(todo_raw['energetic_certif'].nunique(), '\\n')\n",
    "print('Cantidad de valores NaN')\n",
    "print(todo_raw['energetic_certif'].isna().sum(), '\\n')\n",
    "print('Porcentaje de valores NaN sobre el total')\n",
    "print(todo_raw['energetic_certif'].isna().mean()*100)"
   ]
  },
  {
   "cell_type": "code",
   "execution_count": 48,
   "metadata": {},
   "outputs": [
    {
     "data": {
      "text/plain": [
       "array([nan, 'no indicado', 'en trámite', 'inmueble exento',\n",
       "       'energetic_certif'], dtype=object)"
      ]
     },
     "execution_count": 48,
     "metadata": {},
     "output_type": "execute_result"
    }
   ],
   "source": [
    "todo_raw['energetic_certif'].unique()"
   ]
  },
  {
   "cell_type": "markdown",
   "metadata": {},
   "source": [
    "Los valores únicos que tenemos no nos dan demasiada información. Eliminaremos esta columna"
   ]
  },
  {
   "cell_type": "code",
   "execution_count": 49,
   "metadata": {},
   "outputs": [],
   "source": [
    "todo_raw = todo_raw.drop(columns=['energetic_certif'])"
   ]
  },
  {
   "cell_type": "markdown",
   "metadata": {},
   "source": [
    "### COLUMNA: floor"
   ]
  },
  {
   "cell_type": "code",
   "execution_count": 50,
   "metadata": {},
   "outputs": [
    {
     "data": {
      "text/html": [
       "<div>\n",
       "<style scoped>\n",
       "    .dataframe tbody tr th:only-of-type {\n",
       "        vertical-align: middle;\n",
       "    }\n",
       "\n",
       "    .dataframe tbody tr th {\n",
       "        vertical-align: top;\n",
       "    }\n",
       "\n",
       "    .dataframe thead th {\n",
       "        text-align: right;\n",
       "    }\n",
       "</style>\n",
       "<table border=\"1\" class=\"dataframe\">\n",
       "  <thead>\n",
       "    <tr style=\"text-align: right;\">\n",
       "      <th></th>\n",
       "      <th>floor</th>\n",
       "    </tr>\n",
       "  </thead>\n",
       "  <tbody>\n",
       "    <tr>\n",
       "      <th>0</th>\n",
       "      <td>2 plantas</td>\n",
       "    </tr>\n",
       "    <tr>\n",
       "      <th>1</th>\n",
       "      <td>planta 2ª exterior</td>\n",
       "    </tr>\n",
       "    <tr>\n",
       "      <th>2</th>\n",
       "      <td>3 plantas</td>\n",
       "    </tr>\n",
       "    <tr>\n",
       "      <th>3</th>\n",
       "      <td>3 plantas</td>\n",
       "    </tr>\n",
       "    <tr>\n",
       "      <th>4</th>\n",
       "      <td>planta 1ª exterior</td>\n",
       "    </tr>\n",
       "  </tbody>\n",
       "</table>\n",
       "</div>"
      ],
      "text/plain": [
       "                floor\n",
       "0           2 plantas\n",
       "1  planta 2ª exterior\n",
       "2           3 plantas\n",
       "3           3 plantas\n",
       "4  planta 1ª exterior"
      ]
     },
     "execution_count": 50,
     "metadata": {},
     "output_type": "execute_result"
    }
   ],
   "source": [
    "todo_raw[['floor']].head()"
   ]
  },
  {
   "cell_type": "code",
   "execution_count": 51,
   "metadata": {},
   "outputs": [
    {
     "name": "stdout",
     "output_type": "stream",
     "text": [
      "Cantidad de valores únicos\n",
      "87 \n",
      "\n",
      "Cantidad de valores NaN\n",
      "20307 \n",
      "\n",
      "Porcentaje de valores NaN sobre el total\n",
      "20.307\n"
     ]
    }
   ],
   "source": [
    "print('Cantidad de valores únicos')\n",
    "print(todo_raw['floor'].nunique(), '\\n')\n",
    "print('Cantidad de valores NaN')\n",
    "print(todo_raw['floor'].isna().sum(), '\\n')\n",
    "print('Porcentaje de valores NaN sobre el total')\n",
    "print(todo_raw['floor'].isna().mean()*100)"
   ]
  },
  {
   "cell_type": "code",
   "execution_count": 52,
   "metadata": {},
   "outputs": [
    {
     "data": {
      "text/plain": [
       "array(['2 plantas', 'planta 2ª exterior', '3 plantas',\n",
       "       'planta 1ª exterior', nan, '1 planta', 'planta 3ª exterior',\n",
       "       'bajo exterior', 'planta 2ª', 'planta 4ª exterior', '4 plantas',\n",
       "       'planta 3ª', 'planta 1ª', '5 plantas', 'planta 5ª exterior',\n",
       "       'planta 7ª exterior', 'exterior', 'planta 6ª exterior',\n",
       "       'planta 2ª interior', 'planta 4ª', 'planta 4ª interior',\n",
       "       'planta 9ª exterior', 'planta 7ª interior', 'planta 6ª interior',\n",
       "       'planta 8ª interior', 'planta 6ª', 'planta 8ª',\n",
       "       'planta 3ª interior', 'planta 10ª exterior', 'planta 5ª',\n",
       "       'planta 7ª', 'bajo', 'planta 8ª exterior', 'entreplanta exterior',\n",
       "       'planta 13ª exterior', 'planta 9ª', 'planta 5ª interior',\n",
       "       'bajo interior', 'planta 1ª interior', 'planta 12ª exterior',\n",
       "       'planta 15ª exterior', 'planta 10ª', 'semi-sótano exterior',\n",
       "       'planta -1 exterior', '6 plantas', 'entreplanta', 'floor',\n",
       "       '8 plantas', 'planta 11ª exterior', 'planta 11ª',\n",
       "       'planta -2 exterior', 'planta 60ª exterior', 'planta 15ª',\n",
       "       'interior', 'entreplanta interior', 'sótano exterior',\n",
       "       '15 plantas', 'planta 16ª exterior', 'planta 11ª interior',\n",
       "       '20 plantas', 'planta 22ª exterior', 'planta 12ª interior',\n",
       "       '16 plantas', 'planta 10ª interior', 'planta 9ª interior',\n",
       "       'planta -1', '46 plantas', 'sótano interior', 'planta 14ª',\n",
       "       'semi-sótano interior', 'planta 14ª exterior', 'planta 12ª',\n",
       "       'planta 17ª exterior', 'planta 20ª exterior',\n",
       "       'planta 19ª exterior', 'planta 18ª exterior', 'planta 13ª',\n",
       "       'planta 21ª exterior', 'planta 19ª', 'planta 18ª',\n",
       "       'planta -1 interior', 'planta 24ª exterior', '11 plantas',\n",
       "       'planta 30ª', '12 plantas', '80 plantas', 'planta 40ª exterior',\n",
       "       'planta -2 interior'], dtype=object)"
      ]
     },
     "execution_count": 52,
     "metadata": {},
     "output_type": "execute_result"
    }
   ],
   "source": [
    "todo_raw['floor'].unique()"
   ]
  },
  {
   "cell_type": "markdown",
   "metadata": {},
   "source": [
    "En principio, tenemos 87 valores únicos así que no usaremos esta columna en nuestro análisis"
   ]
  },
  {
   "cell_type": "code",
   "execution_count": 53,
   "metadata": {},
   "outputs": [],
   "source": [
    "todo_raw = todo_raw.drop(columns=['floor'])"
   ]
  },
  {
   "cell_type": "markdown",
   "metadata": {},
   "source": [
    "### COLUMNA: garage"
   ]
  },
  {
   "cell_type": "code",
   "execution_count": 54,
   "metadata": {},
   "outputs": [
    {
     "data": {
      "text/html": [
       "<div>\n",
       "<style scoped>\n",
       "    .dataframe tbody tr th:only-of-type {\n",
       "        vertical-align: middle;\n",
       "    }\n",
       "\n",
       "    .dataframe tbody tr th {\n",
       "        vertical-align: top;\n",
       "    }\n",
       "\n",
       "    .dataframe thead th {\n",
       "        text-align: right;\n",
       "    }\n",
       "</style>\n",
       "<table border=\"1\" class=\"dataframe\">\n",
       "  <thead>\n",
       "    <tr style=\"text-align: right;\">\n",
       "      <th></th>\n",
       "      <th>garage</th>\n",
       "    </tr>\n",
       "  </thead>\n",
       "  <tbody>\n",
       "    <tr>\n",
       "      <th>0</th>\n",
       "      <td>plaza de garaje incluida en el precio</td>\n",
       "    </tr>\n",
       "    <tr>\n",
       "      <th>1</th>\n",
       "      <td>NaN</td>\n",
       "    </tr>\n",
       "    <tr>\n",
       "      <th>2</th>\n",
       "      <td>plaza de garaje incluida en el precio</td>\n",
       "    </tr>\n",
       "    <tr>\n",
       "      <th>3</th>\n",
       "      <td>NaN</td>\n",
       "    </tr>\n",
       "    <tr>\n",
       "      <th>4</th>\n",
       "      <td>plaza de garaje incluida en el precio</td>\n",
       "    </tr>\n",
       "  </tbody>\n",
       "</table>\n",
       "</div>"
      ],
      "text/plain": [
       "                                  garage\n",
       "0  plaza de garaje incluida en el precio\n",
       "1                                    NaN\n",
       "2  plaza de garaje incluida en el precio\n",
       "3                                    NaN\n",
       "4  plaza de garaje incluida en el precio"
      ]
     },
     "execution_count": 54,
     "metadata": {},
     "output_type": "execute_result"
    }
   ],
   "source": [
    "todo_raw[['garage']].head()"
   ]
  },
  {
   "cell_type": "code",
   "execution_count": 55,
   "metadata": {},
   "outputs": [
    {
     "name": "stdout",
     "output_type": "stream",
     "text": [
      "Cantidad de valores únicos\n",
      "164 \n",
      "\n",
      "Cantidad de valores NaN\n",
      "59189 \n",
      "\n",
      "Porcentaje de valores NaN sobre el total\n",
      "59.189\n"
     ]
    }
   ],
   "source": [
    "print('Cantidad de valores únicos')\n",
    "print(todo_raw['garage'].nunique(), '\\n')\n",
    "print('Cantidad de valores NaN')\n",
    "print(todo_raw['garage'].isna().sum(), '\\n')\n",
    "print('Porcentaje de valores NaN sobre el total')\n",
    "print(todo_raw['garage'].isna().mean()*100)"
   ]
  },
  {
   "cell_type": "code",
   "execution_count": 56,
   "metadata": {},
   "outputs": [
    {
     "data": {
      "text/plain": [
       "array(['plaza de garaje incluida en el precio', nan,\n",
       "       'plaza de garaje por 15.000 eur adicionales',\n",
       "       'plaza de garaje por 12.500 eur adicionales',\n",
       "       'plaza de garaje por 23.000 eur adicionales',\n",
       "       'plaza de garaje por 1 eur adicionales',\n",
       "       'plaza de garaje por 12.000 eur adicionales',\n",
       "       'plaza de garaje por 13.000 eur adicionales',\n",
       "       'plaza de garaje por 29.000 eur adicionales',\n",
       "       'plaza de garaje por 40 eur adicionales',\n",
       "       'plaza de garaje por 30.000 eur adicionales',\n",
       "       'plaza de garaje por 28.000 eur adicionales',\n",
       "       'plaza de garaje por 10.000 eur adicionales',\n",
       "       'plaza de garaje por 70.000 eur adicionales',\n",
       "       'plaza de garaje por 25.000 eur adicionales',\n",
       "       'plaza de garaje por 50.000 eur adicionales',\n",
       "       'plaza de garaje por 54.000 eur adicionales',\n",
       "       'plaza de garaje por 26.000 eur adicionales',\n",
       "       'plaza de garaje por 20.000 eur adicionales',\n",
       "       'plaza de garaje por 40.000 eur adicionales',\n",
       "       'plaza de garaje por 16.000 eur adicionales',\n",
       "       'plaza de garaje por 18.000 eur adicionales',\n",
       "       'plaza de garaje por 100 eur/mes adicionales',\n",
       "       'plaza de garaje por 135 eur/mes adicionales',\n",
       "       'plaza de garaje por 70 eur/mes adicionales',\n",
       "       'plaza de garaje por 5.000 eur adicionales', 'garage',\n",
       "       'plaza de garaje por 7.000 eur adicionales',\n",
       "       'plaza de garaje por 82.000 eur adicionales',\n",
       "       'plaza de garaje por 120.000 eur adicionales',\n",
       "       'plaza de garaje por 6.000 eur adicionales',\n",
       "       'plaza de garaje por 8.000 eur adicionales',\n",
       "       'plaza de garaje por 17.300 eur adicionales',\n",
       "       'plaza de garaje por 38.000 eur adicionales',\n",
       "       'plaza de garaje por 9.000 eur adicionales',\n",
       "       'plaza de garaje por 35.000 eur adicionales',\n",
       "       'plaza de garaje por 15.700 eur adicionales',\n",
       "       'plaza de garaje por 13.650 eur adicionales',\n",
       "       'plaza de garaje por 24.000 eur adicionales',\n",
       "       'plaza de garaje por 0 eur adicionales',\n",
       "       'plaza de garaje por 17.000 eur adicionales',\n",
       "       'plaza de garaje por 126.000 eur adicionales',\n",
       "       'plaza de garaje por 14.000 eur adicionales',\n",
       "       'plaza de garaje por 360 eur adicionales',\n",
       "       'plaza de garaje por 4.000 eur adicionales',\n",
       "       'plaza de garaje por 475.000 eur adicionales',\n",
       "       'plaza de garaje por 50 eur adicionales',\n",
       "       'plaza de garaje por 65.000 eur adicionales',\n",
       "       'plaza de garaje por 60.000 eur adicionales',\n",
       "       'plaza de garaje por 26.500 eur adicionales',\n",
       "       'plaza de garaje por 22.000 eur adicionales',\n",
       "       'plaza de garaje por 27.999 eur adicionales',\n",
       "       'plaza de garaje por 48.000 eur adicionales',\n",
       "       'plaza de garaje por 6.500 eur adicionales',\n",
       "       'plaza de garaje por 80 eur adicionales',\n",
       "       'plaza de garaje por 30 eur adicionales',\n",
       "       'plaza de garaje por 21.000 eur adicionales',\n",
       "       'plaza de garaje por 120 eur adicionales',\n",
       "       'plaza de garaje por 2.450 eur adicionales',\n",
       "       'plaza de garaje por 75.000 eur adicionales',\n",
       "       'plaza de garaje por 45.000 eur adicionales',\n",
       "       'plaza de garaje por 3.000 eur adicionales',\n",
       "       'plaza de garaje por 16.500 eur adicionales',\n",
       "       'plaza de garaje por 11.050 eur adicionales',\n",
       "       'plaza de garaje por 14.700 eur adicionales',\n",
       "       'plaza de garaje por 9.500 eur adicionales',\n",
       "       'plaza de garaje por 138.000 eur adicionales',\n",
       "       'plaza de garaje por 5.950 eur adicionales',\n",
       "       'plaza de garaje por 111 eur adicionales',\n",
       "       'plaza de garaje por 33.000 eur adicionales',\n",
       "       'plaza de garaje por 24.451 eur adicionales',\n",
       "       'plaza de garaje por 24.452 eur adicionales',\n",
       "       'plaza de garaje por 400.000 eur adicionales',\n",
       "       'plaza de garaje por 14.900 eur adicionales',\n",
       "       'plaza de garaje por 19.900 eur adicionales',\n",
       "       'plaza de garaje por 242.000 eur adicionales',\n",
       "       'plaza de garaje por 205.000 eur adicionales',\n",
       "       'plaza de garaje por 36.000 eur adicionales',\n",
       "       'plaza de garaje por 360.000 eur adicionales',\n",
       "       'plaza de garaje por 32.000 eur adicionales',\n",
       "       'plaza de garaje por 27.100 eur adicionales',\n",
       "       'plaza de garaje por 31.500 eur adicionales',\n",
       "       'plaza de garaje por 19.000 eur adicionales',\n",
       "       'plaza de garaje por 68.000 eur adicionales',\n",
       "       'plaza de garaje por 90.000 eur adicionales',\n",
       "       'plaza de garaje por 80.000 eur adicionales',\n",
       "       'plaza de garaje por 23.500 eur adicionales',\n",
       "       'plaza de garaje por 10.705 eur adicionales',\n",
       "       'plaza de garaje por 10.100 eur adicionales',\n",
       "       'plaza de garaje por 100 eur adicionales',\n",
       "       'plaza de garaje por 72.000 eur adicionales',\n",
       "       'plaza de garaje por 5.168 eur adicionales',\n",
       "       'plaza de garaje por 43.000 eur adicionales',\n",
       "       'plaza de garaje por 125.000 eur adicionales',\n",
       "       'plaza de garaje por 56.000 eur adicionales',\n",
       "       'plaza de garaje por 105.000 eur adicionales',\n",
       "       'plaza de garaje por 71.000 eur adicionales',\n",
       "       'plaza de garaje por 425.000 eur adicionales',\n",
       "       'plaza de garaje por 130 eur/mes adicionales',\n",
       "       'plaza de garaje por 50 eur/mes adicionales',\n",
       "       'plaza de garaje por 60 eur/mes adicionales',\n",
       "       'plaza de garaje por 900 eur/mes adicionales',\n",
       "       'plaza de garaje por 150 eur/mes adicionales',\n",
       "       'plaza de garaje por 125 eur/mes adicionales',\n",
       "       'plaza de garaje por 90 eur/mes adicionales',\n",
       "       'plaza de garaje por 105 eur/mes adicionales',\n",
       "       'plaza de garaje por 80 eur/mes adicionales',\n",
       "       'plaza de garaje por 65 eur/mes adicionales',\n",
       "       'plaza de garaje por 75 eur/mes adicionales',\n",
       "       'plaza de garaje por 110 eur/mes adicionales',\n",
       "       'plaza de garaje por 46.600 eur adicionales',\n",
       "       'plaza de garaje por 47.000 eur adicionales',\n",
       "       'plaza de garaje por 99.000 eur adicionales',\n",
       "       'plaza de garaje por 310.000 eur adicionales',\n",
       "       'plaza de garaje por 31.000 eur adicionales',\n",
       "       'plaza de garaje por 4.500 eur adicionales',\n",
       "       'plaza de garaje por 14.500 eur adicionales',\n",
       "       'plaza de garaje por 5.100 eur adicionales',\n",
       "       'plaza de garaje por 109.000 eur adicionales',\n",
       "       'plaza de garaje por 11.800 eur adicionales',\n",
       "       'plaza de garaje por 13.700 eur adicionales',\n",
       "       'plaza de garaje por 10.500 eur adicionales',\n",
       "       'plaza de garaje por 11.500 eur adicionales',\n",
       "       'plaza de garaje por 42.000 eur adicionales',\n",
       "       'plaza de garaje por 23.127 eur adicionales',\n",
       "       'plaza de garaje por 17.800 eur adicionales',\n",
       "       'plaza de garaje por 16.200 eur adicionales',\n",
       "       'plaza de garaje por 62.000 eur adicionales',\n",
       "       'plaza de garaje por 98.000 eur adicionales',\n",
       "       'plaza de garaje por 55.000 eur adicionales',\n",
       "       'plaza de garaje por 51.000 eur adicionales',\n",
       "       'plaza de garaje por 110 eur adicionales',\n",
       "       'plaza de garaje por 110.000 eur adicionales',\n",
       "       'plaza de garaje por 58.000 eur adicionales',\n",
       "       'plaza de garaje por 85.000 eur adicionales',\n",
       "       'plaza de garaje por 70 eur adicionales',\n",
       "       'plaza de garaje por 200 eur/mes adicionales',\n",
       "       'plaza de garaje por 500 eur/mes adicionales',\n",
       "       'plaza de garaje por 250 eur/mes adicionales',\n",
       "       'plaza de garaje por 180 eur/mes adicionales',\n",
       "       'plaza de garaje por 15.900 eur adicionales',\n",
       "       'plaza de garaje por 825.000 eur adicionales',\n",
       "       'plaza de garaje por 17.500 eur adicionales',\n",
       "       'plaza de garaje por 19 eur adicionales',\n",
       "       'plaza de garaje por 20.500 eur adicionales',\n",
       "       'plaza de garaje por 20.200 eur adicionales',\n",
       "       'plaza de garaje por 100.000 eur adicionales',\n",
       "       'plaza de garaje por 27.500 eur adicionales',\n",
       "       'plaza de garaje por 22.975 eur adicionales',\n",
       "       'plaza de garaje por 200 eur adicionales',\n",
       "       'plaza de garaje por 65.500 eur adicionales',\n",
       "       'plaza de garaje por 15.036 eur adicionales',\n",
       "       'plaza de garaje por 9.200 eur adicionales',\n",
       "       'plaza de garaje por 19.400 eur adicionales',\n",
       "       'plaza de garaje por 30 eur/mes adicionales',\n",
       "       'plaza de garaje por 11.000 eur adicionales',\n",
       "       'plaza de garaje por 5.900 eur adicionales',\n",
       "       'plaza de garaje por 8 eur adicionales',\n",
       "       'plaza de garaje por 8.400 eur adicionales',\n",
       "       'plaza de garaje por 7.300 eur adicionales',\n",
       "       'plaza de garaje por 8.500 eur adicionales',\n",
       "       'plaza de garaje por 5.800 eur adicionales',\n",
       "       'plaza de garaje por 7.500 eur adicionales',\n",
       "       'plaza de garaje por 45 eur/mes adicionales',\n",
       "       'plaza de garaje por 39.000 eur adicionales'], dtype=object)"
      ]
     },
     "execution_count": 56,
     "metadata": {},
     "output_type": "execute_result"
    }
   ],
   "source": [
    "todo_raw['garage'].unique()"
   ]
  },
  {
   "cell_type": "markdown",
   "metadata": {},
   "source": [
    "Tenemos demasiados valores nulos. Además los valores únicos que tenemos son difíciles de analizar. Eliminamos la columna"
   ]
  },
  {
   "cell_type": "code",
   "execution_count": 57,
   "metadata": {},
   "outputs": [],
   "source": [
    "todo_raw = todo_raw.drop(columns=['garage'])"
   ]
  },
  {
   "cell_type": "markdown",
   "metadata": {},
   "source": [
    "### COLUMNA: garden"
   ]
  },
  {
   "cell_type": "code",
   "execution_count": 58,
   "metadata": {},
   "outputs": [
    {
     "data": {
      "text/html": [
       "<div>\n",
       "<style scoped>\n",
       "    .dataframe tbody tr th:only-of-type {\n",
       "        vertical-align: middle;\n",
       "    }\n",
       "\n",
       "    .dataframe tbody tr th {\n",
       "        vertical-align: top;\n",
       "    }\n",
       "\n",
       "    .dataframe thead th {\n",
       "        text-align: right;\n",
       "    }\n",
       "</style>\n",
       "<table border=\"1\" class=\"dataframe\">\n",
       "  <thead>\n",
       "    <tr style=\"text-align: right;\">\n",
       "      <th></th>\n",
       "      <th>garden</th>\n",
       "    </tr>\n",
       "  </thead>\n",
       "  <tbody>\n",
       "    <tr>\n",
       "      <th>0</th>\n",
       "      <td>1</td>\n",
       "    </tr>\n",
       "    <tr>\n",
       "      <th>1</th>\n",
       "      <td>0</td>\n",
       "    </tr>\n",
       "    <tr>\n",
       "      <th>2</th>\n",
       "      <td>1</td>\n",
       "    </tr>\n",
       "    <tr>\n",
       "      <th>3</th>\n",
       "      <td>1</td>\n",
       "    </tr>\n",
       "    <tr>\n",
       "      <th>4</th>\n",
       "      <td>1</td>\n",
       "    </tr>\n",
       "  </tbody>\n",
       "</table>\n",
       "</div>"
      ],
      "text/plain": [
       "  garden\n",
       "0      1\n",
       "1      0\n",
       "2      1\n",
       "3      1\n",
       "4      1"
      ]
     },
     "execution_count": 58,
     "metadata": {},
     "output_type": "execute_result"
    }
   ],
   "source": [
    "todo_raw[['garden']].head()"
   ]
  },
  {
   "cell_type": "code",
   "execution_count": 59,
   "metadata": {},
   "outputs": [
    {
     "name": "stdout",
     "output_type": "stream",
     "text": [
      "Cantidad de valores únicos\n",
      "5 \n",
      "\n",
      "Cantidad de valores NaN\n",
      "0 \n",
      "\n",
      "Porcentaje de valores NaN sobre el total\n",
      "0.0\n"
     ]
    }
   ],
   "source": [
    "print('Cantidad de valores únicos')\n",
    "print(todo_raw['garden'].nunique(), '\\n')\n",
    "print('Cantidad de valores NaN')\n",
    "print(todo_raw['garden'].isna().sum(), '\\n')\n",
    "print('Porcentaje de valores NaN sobre el total')\n",
    "print(todo_raw['garden'].isna().mean()*100)"
   ]
  },
  {
   "cell_type": "code",
   "execution_count": 60,
   "metadata": {},
   "outputs": [
    {
     "data": {
      "text/plain": [
       "array([1, 0, '1', '0', 'garden'], dtype=object)"
      ]
     },
     "execution_count": 60,
     "metadata": {},
     "output_type": "execute_result"
    }
   ],
   "source": [
    "todo_raw['garden'].unique()"
   ]
  },
  {
   "cell_type": "code",
   "execution_count": 61,
   "metadata": {},
   "outputs": [],
   "source": [
    "todo_raw.loc[todo_raw['garden'] == 'garden', 'garden'] = 0\n",
    "todo_raw.loc[todo_raw['garden'] == '0', 'garden'] = 0\n",
    "todo_raw.loc[todo_raw['garden'] == '1', 'garden'] = 0"
   ]
  },
  {
   "cell_type": "code",
   "execution_count": 62,
   "metadata": {},
   "outputs": [],
   "source": [
    "todo_raw['garden'] = todo_raw['garden'].fillna(0)\n",
    "todo_raw['garden'] = todo_raw['garden'].astype(bool)"
   ]
  },
  {
   "cell_type": "markdown",
   "metadata": {},
   "source": [
    "### COLUMNA: ground_size"
   ]
  },
  {
   "cell_type": "code",
   "execution_count": 63,
   "metadata": {},
   "outputs": [
    {
     "data": {
      "text/html": [
       "<div>\n",
       "<style scoped>\n",
       "    .dataframe tbody tr th:only-of-type {\n",
       "        vertical-align: middle;\n",
       "    }\n",
       "\n",
       "    .dataframe tbody tr th {\n",
       "        vertical-align: top;\n",
       "    }\n",
       "\n",
       "    .dataframe thead th {\n",
       "        text-align: right;\n",
       "    }\n",
       "</style>\n",
       "<table border=\"1\" class=\"dataframe\">\n",
       "  <thead>\n",
       "    <tr style=\"text-align: right;\">\n",
       "      <th></th>\n",
       "      <th>ground_size</th>\n",
       "    </tr>\n",
       "  </thead>\n",
       "  <tbody>\n",
       "    <tr>\n",
       "      <th>0</th>\n",
       "      <td>NaN</td>\n",
       "    </tr>\n",
       "    <tr>\n",
       "      <th>1</th>\n",
       "      <td>NaN</td>\n",
       "    </tr>\n",
       "    <tr>\n",
       "      <th>2</th>\n",
       "      <td>NaN</td>\n",
       "    </tr>\n",
       "    <tr>\n",
       "      <th>3</th>\n",
       "      <td>NaN</td>\n",
       "    </tr>\n",
       "    <tr>\n",
       "      <th>4</th>\n",
       "      <td>NaN</td>\n",
       "    </tr>\n",
       "  </tbody>\n",
       "</table>\n",
       "</div>"
      ],
      "text/plain": [
       "  ground_size\n",
       "0         NaN\n",
       "1         NaN\n",
       "2         NaN\n",
       "3         NaN\n",
       "4         NaN"
      ]
     },
     "execution_count": 63,
     "metadata": {},
     "output_type": "execute_result"
    }
   ],
   "source": [
    "todo_raw[['ground_size']].head()"
   ]
  },
  {
   "cell_type": "code",
   "execution_count": 64,
   "metadata": {},
   "outputs": [
    {
     "name": "stdout",
     "output_type": "stream",
     "text": [
      "Cantidad de valores únicos\n",
      "1 \n",
      "\n",
      "Cantidad de valores NaN\n",
      "99817 \n",
      "\n",
      "Porcentaje de valores NaN sobre el total\n",
      "99.81700000000001\n"
     ]
    }
   ],
   "source": [
    "print('Cantidad de valores únicos')\n",
    "print(todo_raw['ground_size'].nunique(), '\\n')\n",
    "print('Cantidad de valores NaN')\n",
    "print(todo_raw['ground_size'].isna().sum(), '\\n')\n",
    "print('Porcentaje de valores NaN sobre el total')\n",
    "print(todo_raw['ground_size'].isna().mean()*100)"
   ]
  },
  {
   "cell_type": "markdown",
   "metadata": {},
   "source": [
    "Demasiados valores nulos, eliminaremos la columna"
   ]
  },
  {
   "cell_type": "code",
   "execution_count": 65,
   "metadata": {},
   "outputs": [],
   "source": [
    "todo_raw = todo_raw.drop(columns=['ground_size'])"
   ]
  },
  {
   "cell_type": "markdown",
   "metadata": {},
   "source": [
    "### COLUMNA: heating"
   ]
  },
  {
   "cell_type": "code",
   "execution_count": 66,
   "metadata": {},
   "outputs": [
    {
     "data": {
      "text/html": [
       "<div>\n",
       "<style scoped>\n",
       "    .dataframe tbody tr th:only-of-type {\n",
       "        vertical-align: middle;\n",
       "    }\n",
       "\n",
       "    .dataframe tbody tr th {\n",
       "        vertical-align: top;\n",
       "    }\n",
       "\n",
       "    .dataframe thead th {\n",
       "        text-align: right;\n",
       "    }\n",
       "</style>\n",
       "<table border=\"1\" class=\"dataframe\">\n",
       "  <thead>\n",
       "    <tr style=\"text-align: right;\">\n",
       "      <th></th>\n",
       "      <th>heating</th>\n",
       "    </tr>\n",
       "  </thead>\n",
       "  <tbody>\n",
       "    <tr>\n",
       "      <th>0</th>\n",
       "      <td>NaN</td>\n",
       "    </tr>\n",
       "    <tr>\n",
       "      <th>1</th>\n",
       "      <td>NaN</td>\n",
       "    </tr>\n",
       "    <tr>\n",
       "      <th>2</th>\n",
       "      <td>NaN</td>\n",
       "    </tr>\n",
       "    <tr>\n",
       "      <th>3</th>\n",
       "      <td>NaN</td>\n",
       "    </tr>\n",
       "    <tr>\n",
       "      <th>4</th>\n",
       "      <td>NaN</td>\n",
       "    </tr>\n",
       "  </tbody>\n",
       "</table>\n",
       "</div>"
      ],
      "text/plain": [
       "  heating\n",
       "0     NaN\n",
       "1     NaN\n",
       "2     NaN\n",
       "3     NaN\n",
       "4     NaN"
      ]
     },
     "execution_count": 66,
     "metadata": {},
     "output_type": "execute_result"
    }
   ],
   "source": [
    "todo_raw[['heating']].head()"
   ]
  },
  {
   "cell_type": "code",
   "execution_count": 67,
   "metadata": {},
   "outputs": [
    {
     "name": "stdout",
     "output_type": "stream",
     "text": [
      "Cantidad de valores únicos\n",
      "19 \n",
      "\n",
      "Cantidad de valores NaN\n",
      "74286 \n",
      "\n",
      "Porcentaje de valores NaN sobre el total\n",
      "74.286\n"
     ]
    }
   ],
   "source": [
    "print('Cantidad de valores únicos')\n",
    "print(todo_raw['heating'].nunique(), '\\n')\n",
    "print('Cantidad de valores NaN')\n",
    "print(todo_raw['heating'].isna().sum(), '\\n')\n",
    "print('Porcentaje de valores NaN sobre el total')\n",
    "print(todo_raw['heating'].isna().mean()*100)"
   ]
  },
  {
   "cell_type": "markdown",
   "metadata": {},
   "source": [
    "Demasiados valores nulos, eliminaremos la columna"
   ]
  },
  {
   "cell_type": "code",
   "execution_count": 68,
   "metadata": {},
   "outputs": [],
   "source": [
    "todo_raw = todo_raw.drop(columns=['heating'])"
   ]
  },
  {
   "cell_type": "markdown",
   "metadata": {},
   "source": [
    "### COLUMNA: house_id"
   ]
  },
  {
   "cell_type": "code",
   "execution_count": 69,
   "metadata": {},
   "outputs": [
    {
     "data": {
      "text/html": [
       "<div>\n",
       "<style scoped>\n",
       "    .dataframe tbody tr th:only-of-type {\n",
       "        vertical-align: middle;\n",
       "    }\n",
       "\n",
       "    .dataframe tbody tr th {\n",
       "        vertical-align: top;\n",
       "    }\n",
       "\n",
       "    .dataframe thead th {\n",
       "        text-align: right;\n",
       "    }\n",
       "</style>\n",
       "<table border=\"1\" class=\"dataframe\">\n",
       "  <thead>\n",
       "    <tr style=\"text-align: right;\">\n",
       "      <th></th>\n",
       "      <th>house_id</th>\n",
       "    </tr>\n",
       "  </thead>\n",
       "  <tbody>\n",
       "    <tr>\n",
       "      <th>0</th>\n",
       "      <td>81717634</td>\n",
       "    </tr>\n",
       "    <tr>\n",
       "      <th>1</th>\n",
       "      <td>29588074</td>\n",
       "    </tr>\n",
       "    <tr>\n",
       "      <th>2</th>\n",
       "      <td>37453116</td>\n",
       "    </tr>\n",
       "    <tr>\n",
       "      <th>3</th>\n",
       "      <td>82568918</td>\n",
       "    </tr>\n",
       "    <tr>\n",
       "      <th>4</th>\n",
       "      <td>29135242</td>\n",
       "    </tr>\n",
       "  </tbody>\n",
       "</table>\n",
       "</div>"
      ],
      "text/plain": [
       "   house_id\n",
       "0  81717634\n",
       "1  29588074\n",
       "2  37453116\n",
       "3  82568918\n",
       "4  29135242"
      ]
     },
     "execution_count": 69,
     "metadata": {},
     "output_type": "execute_result"
    }
   ],
   "source": [
    "todo_raw[['house_id']].head()"
   ]
  },
  {
   "cell_type": "markdown",
   "metadata": {},
   "source": [
    "Esta columna simplemente nos da un id de la casa que aparece en el anuncio de Idealista. No es relevante para nuestro análisis así que la eliminaremos"
   ]
  },
  {
   "cell_type": "code",
   "execution_count": 70,
   "metadata": {},
   "outputs": [],
   "source": [
    "todo_raw = todo_raw.drop(columns=['house_id'])"
   ]
  },
  {
   "cell_type": "markdown",
   "metadata": {},
   "source": [
    "### COLUMNA: house_type"
   ]
  },
  {
   "cell_type": "code",
   "execution_count": 71,
   "metadata": {},
   "outputs": [
    {
     "data": {
      "text/html": [
       "<div>\n",
       "<style scoped>\n",
       "    .dataframe tbody tr th:only-of-type {\n",
       "        vertical-align: middle;\n",
       "    }\n",
       "\n",
       "    .dataframe tbody tr th {\n",
       "        vertical-align: top;\n",
       "    }\n",
       "\n",
       "    .dataframe thead th {\n",
       "        text-align: right;\n",
       "    }\n",
       "</style>\n",
       "<table border=\"1\" class=\"dataframe\">\n",
       "  <thead>\n",
       "    <tr style=\"text-align: right;\">\n",
       "      <th></th>\n",
       "      <th>house_type</th>\n",
       "    </tr>\n",
       "  </thead>\n",
       "  <tbody>\n",
       "    <tr>\n",
       "      <th>0</th>\n",
       "      <td>Casa o chalet independiente</td>\n",
       "    </tr>\n",
       "    <tr>\n",
       "      <th>1</th>\n",
       "      <td>Ático</td>\n",
       "    </tr>\n",
       "    <tr>\n",
       "      <th>2</th>\n",
       "      <td>Casa de pueblo</td>\n",
       "    </tr>\n",
       "    <tr>\n",
       "      <th>3</th>\n",
       "      <td>Casa de pueblo</td>\n",
       "    </tr>\n",
       "    <tr>\n",
       "      <th>4</th>\n",
       "      <td>Piso</td>\n",
       "    </tr>\n",
       "  </tbody>\n",
       "</table>\n",
       "</div>"
      ],
      "text/plain": [
       "                     house_type\n",
       "0   Casa o chalet independiente\n",
       "1                         Ático\n",
       "2                Casa de pueblo\n",
       "3                Casa de pueblo\n",
       "4                          Piso"
      ]
     },
     "execution_count": 71,
     "metadata": {},
     "output_type": "execute_result"
    }
   ],
   "source": [
    "todo_raw[['house_type']].head()"
   ]
  },
  {
   "cell_type": "code",
   "execution_count": 72,
   "metadata": {},
   "outputs": [
    {
     "name": "stdout",
     "output_type": "stream",
     "text": [
      "Cantidad de valores únicos\n",
      "32 \n",
      "\n",
      "Cantidad de valores NaN\n",
      "0 \n",
      "\n",
      "Porcentaje de valores NaN sobre el total\n",
      "0.0\n"
     ]
    }
   ],
   "source": [
    "print('Cantidad de valores únicos')\n",
    "print(todo_raw['house_type'].nunique(), '\\n')\n",
    "print('Cantidad de valores NaN')\n",
    "print(todo_raw['house_type'].isna().sum(), '\\n')\n",
    "print('Porcentaje de valores NaN sobre el total')\n",
    "print(todo_raw['house_type'].isna().mean()*100)"
   ]
  },
  {
   "cell_type": "code",
   "execution_count": 73,
   "metadata": {},
   "outputs": [
    {
     "data": {
      "text/plain": [
       "array([' Casa o chalet independiente', 'Ático', ' Casa de pueblo', 'Piso',\n",
       "       ' Casa rural', ' Chalet adosado', ' Casa o chalet', ' Caserón',\n",
       "       ' Chalet pareado', 'Dúplex', 'Estudio', ' Finca rústica',\n",
       "       ' Palacio', ' Torre', 'Casa rural', 'Alquiler de Piso',\n",
       "       'Alquiler de Casa o chalet independiente', 'Alquiler de Dúplex',\n",
       "       'Alquiler de Chalet adosado', 'Alquiler de Estudio',\n",
       "       'Alquiler de Finca rústica', 'Alquiler de Casa o chalet',\n",
       "       'Alquiler de Ático', 'Alquiler de Casa rural',\n",
       "       'Alquiler de Chalet pareado', ' Castillo', ' Masía', ' Cortijo',\n",
       "       'house_type', ' Casa terrera', 'Alquiler de Caserón',\n",
       "       'Alquiler de Casa de pueblo'], dtype=object)"
      ]
     },
     "execution_count": 73,
     "metadata": {},
     "output_type": "execute_result"
    }
   ],
   "source": [
    "todo_raw['house_type'].unique()"
   ]
  },
  {
   "cell_type": "code",
   "execution_count": 74,
   "metadata": {},
   "outputs": [],
   "source": [
    "todo_raw.loc[todo_raw['house_type'] == 'house_type', 'house_type'] = 'indefinido'"
   ]
  },
  {
   "cell_type": "code",
   "execution_count": 75,
   "metadata": {},
   "outputs": [],
   "source": [
    "todo_raw['house_type'] = todo_raw['house_type'].fillna('indefinido')\n",
    "todo_raw['house_type'] = todo_raw['house_type'].astype(str)"
   ]
  },
  {
   "cell_type": "markdown",
   "metadata": {},
   "source": [
    "### COLUMNA: kitchen"
   ]
  },
  {
   "cell_type": "code",
   "execution_count": 76,
   "metadata": {},
   "outputs": [
    {
     "data": {
      "text/html": [
       "<div>\n",
       "<style scoped>\n",
       "    .dataframe tbody tr th:only-of-type {\n",
       "        vertical-align: middle;\n",
       "    }\n",
       "\n",
       "    .dataframe tbody tr th {\n",
       "        vertical-align: top;\n",
       "    }\n",
       "\n",
       "    .dataframe thead th {\n",
       "        text-align: right;\n",
       "    }\n",
       "</style>\n",
       "<table border=\"1\" class=\"dataframe\">\n",
       "  <thead>\n",
       "    <tr style=\"text-align: right;\">\n",
       "      <th></th>\n",
       "      <th>kitchen</th>\n",
       "    </tr>\n",
       "  </thead>\n",
       "  <tbody>\n",
       "    <tr>\n",
       "      <th>0</th>\n",
       "      <td>NaN</td>\n",
       "    </tr>\n",
       "    <tr>\n",
       "      <th>1</th>\n",
       "      <td>NaN</td>\n",
       "    </tr>\n",
       "    <tr>\n",
       "      <th>2</th>\n",
       "      <td>NaN</td>\n",
       "    </tr>\n",
       "    <tr>\n",
       "      <th>3</th>\n",
       "      <td>NaN</td>\n",
       "    </tr>\n",
       "    <tr>\n",
       "      <th>4</th>\n",
       "      <td>NaN</td>\n",
       "    </tr>\n",
       "  </tbody>\n",
       "</table>\n",
       "</div>"
      ],
      "text/plain": [
       "  kitchen\n",
       "0     NaN\n",
       "1     NaN\n",
       "2     NaN\n",
       "3     NaN\n",
       "4     NaN"
      ]
     },
     "execution_count": 76,
     "metadata": {},
     "output_type": "execute_result"
    }
   ],
   "source": [
    "todo_raw[['kitchen']].head()"
   ]
  },
  {
   "cell_type": "code",
   "execution_count": 77,
   "metadata": {},
   "outputs": [
    {
     "name": "stdout",
     "output_type": "stream",
     "text": [
      "Cantidad de valores únicos\n",
      "3 \n",
      "\n",
      "Cantidad de valores NaN\n",
      "97788 \n",
      "\n",
      "Porcentaje de valores NaN sobre el total\n",
      "97.788\n"
     ]
    }
   ],
   "source": [
    "print('Cantidad de valores únicos')\n",
    "print(todo_raw['kitchen'].nunique(), '\\n')\n",
    "print('Cantidad de valores NaN')\n",
    "print(todo_raw['kitchen'].isna().sum(), '\\n')\n",
    "print('Porcentaje de valores NaN sobre el total')\n",
    "print(todo_raw['kitchen'].isna().mean()*100)"
   ]
  },
  {
   "cell_type": "markdown",
   "metadata": {},
   "source": [
    "Demasiados nulos, eliminaremos la columna"
   ]
  },
  {
   "cell_type": "code",
   "execution_count": 78,
   "metadata": {},
   "outputs": [],
   "source": [
    "todo_raw = todo_raw.drop(columns=['kitchen'])"
   ]
  },
  {
   "cell_type": "markdown",
   "metadata": {},
   "source": [
    "### COLUMNA: lift"
   ]
  },
  {
   "cell_type": "code",
   "execution_count": 79,
   "metadata": {},
   "outputs": [
    {
     "data": {
      "text/html": [
       "<div>\n",
       "<style scoped>\n",
       "    .dataframe tbody tr th:only-of-type {\n",
       "        vertical-align: middle;\n",
       "    }\n",
       "\n",
       "    .dataframe tbody tr th {\n",
       "        vertical-align: top;\n",
       "    }\n",
       "\n",
       "    .dataframe thead th {\n",
       "        text-align: right;\n",
       "    }\n",
       "</style>\n",
       "<table border=\"1\" class=\"dataframe\">\n",
       "  <thead>\n",
       "    <tr style=\"text-align: right;\">\n",
       "      <th></th>\n",
       "      <th>lift</th>\n",
       "    </tr>\n",
       "  </thead>\n",
       "  <tbody>\n",
       "    <tr>\n",
       "      <th>0</th>\n",
       "      <td>NaN</td>\n",
       "    </tr>\n",
       "    <tr>\n",
       "      <th>1</th>\n",
       "      <td>1.0</td>\n",
       "    </tr>\n",
       "    <tr>\n",
       "      <th>2</th>\n",
       "      <td>NaN</td>\n",
       "    </tr>\n",
       "    <tr>\n",
       "      <th>3</th>\n",
       "      <td>NaN</td>\n",
       "    </tr>\n",
       "    <tr>\n",
       "      <th>4</th>\n",
       "      <td>1.0</td>\n",
       "    </tr>\n",
       "  </tbody>\n",
       "</table>\n",
       "</div>"
      ],
      "text/plain": [
       "  lift\n",
       "0  NaN\n",
       "1  1.0\n",
       "2  NaN\n",
       "3  NaN\n",
       "4  1.0"
      ]
     },
     "execution_count": 79,
     "metadata": {},
     "output_type": "execute_result"
    }
   ],
   "source": [
    "todo_raw[['lift']].head()"
   ]
  },
  {
   "cell_type": "code",
   "execution_count": 80,
   "metadata": {},
   "outputs": [
    {
     "name": "stdout",
     "output_type": "stream",
     "text": [
      "Cantidad de valores únicos\n",
      "5 \n",
      "\n",
      "Cantidad de valores NaN\n",
      "41035 \n",
      "\n",
      "Porcentaje de valores NaN sobre el total\n",
      "41.035\n"
     ]
    }
   ],
   "source": [
    "print('Cantidad de valores únicos')\n",
    "print(todo_raw['lift'].nunique(), '\\n')\n",
    "print('Cantidad de valores NaN')\n",
    "print(todo_raw['lift'].isna().sum(), '\\n')\n",
    "print('Porcentaje de valores NaN sobre el total')\n",
    "print(todo_raw['lift'].isna().mean()*100)"
   ]
  },
  {
   "cell_type": "code",
   "execution_count": 81,
   "metadata": {},
   "outputs": [
    {
     "data": {
      "text/plain": [
       "array([nan, 1.0, 0.0, '0', '1', 'lift'], dtype=object)"
      ]
     },
     "execution_count": 81,
     "metadata": {},
     "output_type": "execute_result"
    }
   ],
   "source": [
    "todo_raw['lift'].unique()"
   ]
  },
  {
   "cell_type": "markdown",
   "metadata": {},
   "source": [
    "Tomaremos que si no existe un valor para lift (ascensor) significa que el piso no dispone de ascensor (de lo contrario, la persona lo especificaría en el anuncio)"
   ]
  },
  {
   "cell_type": "code",
   "execution_count": 82,
   "metadata": {},
   "outputs": [],
   "source": [
    "todo_raw.loc[todo_raw['lift'] == 'lift', 'lift'] = 0\n",
    "todo_raw.loc[todo_raw['lift'] == '0', 'lift'] = 0\n",
    "todo_raw.loc[todo_raw['lift'] == '1', 'lift'] = 1"
   ]
  },
  {
   "cell_type": "code",
   "execution_count": 83,
   "metadata": {},
   "outputs": [],
   "source": [
    "todo_raw['lift'] = todo_raw['lift'].fillna(0)\n",
    "todo_raw['lift'] = todo_raw['lift'].astype(bool)"
   ]
  },
  {
   "cell_type": "markdown",
   "metadata": {},
   "source": [
    "### COLUMNA: loc_city"
   ]
  },
  {
   "cell_type": "code",
   "execution_count": 84,
   "metadata": {},
   "outputs": [
    {
     "data": {
      "text/html": [
       "<div>\n",
       "<style scoped>\n",
       "    .dataframe tbody tr th:only-of-type {\n",
       "        vertical-align: middle;\n",
       "    }\n",
       "\n",
       "    .dataframe tbody tr th {\n",
       "        vertical-align: top;\n",
       "    }\n",
       "\n",
       "    .dataframe thead th {\n",
       "        text-align: right;\n",
       "    }\n",
       "</style>\n",
       "<table border=\"1\" class=\"dataframe\">\n",
       "  <thead>\n",
       "    <tr style=\"text-align: right;\">\n",
       "      <th></th>\n",
       "      <th>loc_city</th>\n",
       "    </tr>\n",
       "  </thead>\n",
       "  <tbody>\n",
       "    <tr>\n",
       "      <th>0</th>\n",
       "      <td>Urcabustaiz</td>\n",
       "    </tr>\n",
       "    <tr>\n",
       "      <th>1</th>\n",
       "      <td>Legutiano</td>\n",
       "    </tr>\n",
       "    <tr>\n",
       "      <th>2</th>\n",
       "      <td>Aramaio</td>\n",
       "    </tr>\n",
       "    <tr>\n",
       "      <th>3</th>\n",
       "      <td>Urcabustaiz</td>\n",
       "    </tr>\n",
       "    <tr>\n",
       "      <th>4</th>\n",
       "      <td>Urcabustaiz</td>\n",
       "    </tr>\n",
       "  </tbody>\n",
       "</table>\n",
       "</div>"
      ],
      "text/plain": [
       "      loc_city\n",
       "0  Urcabustaiz\n",
       "1    Legutiano\n",
       "2      Aramaio\n",
       "3  Urcabustaiz\n",
       "4  Urcabustaiz"
      ]
     },
     "execution_count": 84,
     "metadata": {},
     "output_type": "execute_result"
    }
   ],
   "source": [
    "todo_raw[['loc_city']].head()"
   ]
  },
  {
   "cell_type": "code",
   "execution_count": 85,
   "metadata": {},
   "outputs": [
    {
     "name": "stdout",
     "output_type": "stream",
     "text": [
      "Cantidad de valores únicos\n",
      "1139 \n",
      "\n",
      "Cantidad de valores NaN\n",
      "0 \n",
      "\n",
      "Porcentaje de valores NaN sobre el total\n",
      "0.0\n"
     ]
    }
   ],
   "source": [
    "print('Cantidad de valores únicos')\n",
    "print(todo_raw['loc_city'].nunique(), '\\n')\n",
    "print('Cantidad de valores NaN')\n",
    "print(todo_raw['loc_city'].isna().sum(), '\\n')\n",
    "print('Porcentaje de valores NaN sobre el total')\n",
    "print(todo_raw['loc_city'].isna().mean()*100)"
   ]
  },
  {
   "cell_type": "code",
   "execution_count": 86,
   "metadata": {},
   "outputs": [
    {
     "data": {
      "text/plain": [
       "array(['Urcabustaiz', 'Legutiano', 'Aramaio', ..., 'Molacillos',\n",
       "       'Palacios del Pan', 'Moreruela de los Infanzones'], dtype=object)"
      ]
     },
     "execution_count": 86,
     "metadata": {},
     "output_type": "execute_result"
    }
   ],
   "source": [
    "todo_raw['loc_city'].unique()"
   ]
  },
  {
   "cell_type": "code",
   "execution_count": 87,
   "metadata": {},
   "outputs": [],
   "source": [
    "todo_raw.loc[todo_raw['loc_city'] == 'loc_city', 'loc_city'] = 'indefinido'"
   ]
  },
  {
   "cell_type": "code",
   "execution_count": 88,
   "metadata": {},
   "outputs": [],
   "source": [
    "todo_raw['loc_city'] = todo_raw['loc_city'].fillna('indefinido')\n",
    "todo_raw['loc_city'] = todo_raw['loc_city'].astype(str)"
   ]
  },
  {
   "cell_type": "markdown",
   "metadata": {},
   "source": [
    "### COLUMNA: loc_district"
   ]
  },
  {
   "cell_type": "code",
   "execution_count": 89,
   "metadata": {},
   "outputs": [
    {
     "data": {
      "text/html": [
       "<div>\n",
       "<style scoped>\n",
       "    .dataframe tbody tr th:only-of-type {\n",
       "        vertical-align: middle;\n",
       "    }\n",
       "\n",
       "    .dataframe tbody tr th {\n",
       "        vertical-align: top;\n",
       "    }\n",
       "\n",
       "    .dataframe thead th {\n",
       "        text-align: right;\n",
       "    }\n",
       "</style>\n",
       "<table border=\"1\" class=\"dataframe\">\n",
       "  <thead>\n",
       "    <tr style=\"text-align: right;\">\n",
       "      <th></th>\n",
       "      <th>loc_district</th>\n",
       "    </tr>\n",
       "  </thead>\n",
       "  <tbody>\n",
       "    <tr>\n",
       "      <th>0</th>\n",
       "      <td>La iglesia</td>\n",
       "    </tr>\n",
       "    <tr>\n",
       "      <th>1</th>\n",
       "      <td>la Union Plazatxoa, 8</td>\n",
       "    </tr>\n",
       "    <tr>\n",
       "      <th>2</th>\n",
       "      <td>Calle Etxaguen s/n</td>\n",
       "    </tr>\n",
       "    <tr>\n",
       "      <th>3</th>\n",
       "      <td>CP 01449, 1449 CP</td>\n",
       "    </tr>\n",
       "    <tr>\n",
       "      <th>4</th>\n",
       "      <td>Calle Nueva Plaza, 9</td>\n",
       "    </tr>\n",
       "  </tbody>\n",
       "</table>\n",
       "</div>"
      ],
      "text/plain": [
       "            loc_district\n",
       "0             La iglesia\n",
       "1  la Union Plazatxoa, 8\n",
       "2     Calle Etxaguen s/n\n",
       "3      CP 01449, 1449 CP\n",
       "4   Calle Nueva Plaza, 9"
      ]
     },
     "execution_count": 89,
     "metadata": {},
     "output_type": "execute_result"
    }
   ],
   "source": [
    "todo_raw[['loc_district']].head()"
   ]
  },
  {
   "cell_type": "code",
   "execution_count": 90,
   "metadata": {},
   "outputs": [
    {
     "name": "stdout",
     "output_type": "stream",
     "text": [
      "Cantidad de valores únicos\n",
      "23068 \n",
      "\n",
      "Cantidad de valores NaN\n",
      "13747 \n",
      "\n",
      "Porcentaje de valores NaN sobre el total\n",
      "13.747000000000002\n"
     ]
    }
   ],
   "source": [
    "print('Cantidad de valores únicos')\n",
    "print(todo_raw['loc_district'].nunique(), '\\n')\n",
    "print('Cantidad de valores NaN')\n",
    "print(todo_raw['loc_district'].isna().sum(), '\\n')\n",
    "print('Porcentaje de valores NaN sobre el total')\n",
    "print(todo_raw['loc_district'].isna().mean()*100)"
   ]
  },
  {
   "cell_type": "code",
   "execution_count": 91,
   "metadata": {},
   "outputs": [],
   "source": [
    "todo_raw.loc[todo_raw['loc_district'] == 'loc_distric', 'loc_district'] = 'indefinido'"
   ]
  },
  {
   "cell_type": "code",
   "execution_count": 92,
   "metadata": {},
   "outputs": [],
   "source": [
    "todo_raw['loc_district'] = todo_raw['loc_district'].fillna('indefinido')\n",
    "todo_raw['loc_district'] = todo_raw['loc_district'].astype(str)"
   ]
  },
  {
   "cell_type": "markdown",
   "metadata": {},
   "source": [
    "### COLUMNA: loc_full"
   ]
  },
  {
   "cell_type": "code",
   "execution_count": 93,
   "metadata": {},
   "outputs": [
    {
     "data": {
      "text/html": [
       "<div>\n",
       "<style scoped>\n",
       "    .dataframe tbody tr th:only-of-type {\n",
       "        vertical-align: middle;\n",
       "    }\n",
       "\n",
       "    .dataframe tbody tr th {\n",
       "        vertical-align: top;\n",
       "    }\n",
       "\n",
       "    .dataframe thead th {\n",
       "        text-align: right;\n",
       "    }\n",
       "</style>\n",
       "<table border=\"1\" class=\"dataframe\">\n",
       "  <thead>\n",
       "    <tr style=\"text-align: right;\">\n",
       "      <th></th>\n",
       "      <th>loc_full</th>\n",
       "    </tr>\n",
       "  </thead>\n",
       "  <tbody>\n",
       "    <tr>\n",
       "      <th>0</th>\n",
       "      <td>La iglesia , Urcabustaiz , Zuya, Álava</td>\n",
       "    </tr>\n",
       "    <tr>\n",
       "      <th>1</th>\n",
       "      <td>la Union Plazatxoa, 8 , Legutiano , Zuya, Álava</td>\n",
       "    </tr>\n",
       "    <tr>\n",
       "      <th>2</th>\n",
       "      <td>Calle Etxaguen s/n , Aramaio , Zuya, Álava</td>\n",
       "    </tr>\n",
       "    <tr>\n",
       "      <th>3</th>\n",
       "      <td>CP 01449, 1449 CP , Urcabustaiz , Zuya, Álava</td>\n",
       "    </tr>\n",
       "    <tr>\n",
       "      <th>4</th>\n",
       "      <td>Calle Nueva Plaza, 9 , Urcabustaiz , Zuya, Ál...</td>\n",
       "    </tr>\n",
       "  </tbody>\n",
       "</table>\n",
       "</div>"
      ],
      "text/plain": [
       "                                            loc_full\n",
       "0            La iglesia , Urcabustaiz , Zuya, Álava \n",
       "1   la Union Plazatxoa, 8 , Legutiano , Zuya, Álava \n",
       "2        Calle Etxaguen s/n , Aramaio , Zuya, Álava \n",
       "3     CP 01449, 1449 CP , Urcabustaiz , Zuya, Álava \n",
       "4   Calle Nueva Plaza, 9 , Urcabustaiz , Zuya, Ál..."
      ]
     },
     "execution_count": 93,
     "metadata": {},
     "output_type": "execute_result"
    }
   ],
   "source": [
    "todo_raw[['loc_full']].head()"
   ]
  },
  {
   "cell_type": "code",
   "execution_count": 94,
   "metadata": {},
   "outputs": [
    {
     "name": "stdout",
     "output_type": "stream",
     "text": [
      "Cantidad de valores únicos\n",
      "49369 \n",
      "\n",
      "Cantidad de valores NaN\n",
      "0 \n",
      "\n",
      "Porcentaje de valores NaN sobre el total\n",
      "0.0\n"
     ]
    }
   ],
   "source": [
    "print('Cantidad de valores únicos')\n",
    "print(todo_raw['loc_full'].nunique(), '\\n')\n",
    "print('Cantidad de valores NaN')\n",
    "print(todo_raw['loc_full'].isna().sum(), '\\n')\n",
    "print('Porcentaje de valores NaN sobre el total')\n",
    "print(todo_raw['loc_full'].isna().mean()*100)"
   ]
  },
  {
   "cell_type": "code",
   "execution_count": 95,
   "metadata": {},
   "outputs": [],
   "source": [
    "todo_raw.loc[todo_raw['loc_full'] == 'loc_full', 'loc_full'] = 'indefinido'"
   ]
  },
  {
   "cell_type": "code",
   "execution_count": 96,
   "metadata": {},
   "outputs": [],
   "source": [
    "todo_raw['loc_full'] = todo_raw['loc_full'].fillna('indefinido')\n",
    "todo_raw['loc_full'] = todo_raw['loc_full'].astype(str)"
   ]
  },
  {
   "cell_type": "markdown",
   "metadata": {},
   "source": [
    "### COLUMNA: loc_neigh"
   ]
  },
  {
   "cell_type": "code",
   "execution_count": 97,
   "metadata": {},
   "outputs": [
    {
     "data": {
      "text/html": [
       "<div>\n",
       "<style scoped>\n",
       "    .dataframe tbody tr th:only-of-type {\n",
       "        vertical-align: middle;\n",
       "    }\n",
       "\n",
       "    .dataframe tbody tr th {\n",
       "        vertical-align: top;\n",
       "    }\n",
       "\n",
       "    .dataframe thead th {\n",
       "        text-align: right;\n",
       "    }\n",
       "</style>\n",
       "<table border=\"1\" class=\"dataframe\">\n",
       "  <thead>\n",
       "    <tr style=\"text-align: right;\">\n",
       "      <th></th>\n",
       "      <th>loc_neigh</th>\n",
       "    </tr>\n",
       "  </thead>\n",
       "  <tbody>\n",
       "    <tr>\n",
       "      <th>0</th>\n",
       "      <td>NaN</td>\n",
       "    </tr>\n",
       "    <tr>\n",
       "      <th>1</th>\n",
       "      <td>NaN</td>\n",
       "    </tr>\n",
       "    <tr>\n",
       "      <th>2</th>\n",
       "      <td>NaN</td>\n",
       "    </tr>\n",
       "    <tr>\n",
       "      <th>3</th>\n",
       "      <td>NaN</td>\n",
       "    </tr>\n",
       "    <tr>\n",
       "      <th>4</th>\n",
       "      <td>NaN</td>\n",
       "    </tr>\n",
       "  </tbody>\n",
       "</table>\n",
       "</div>"
      ],
      "text/plain": [
       "  loc_neigh\n",
       "0       NaN\n",
       "1       NaN\n",
       "2       NaN\n",
       "3       NaN\n",
       "4       NaN"
      ]
     },
     "execution_count": 97,
     "metadata": {},
     "output_type": "execute_result"
    }
   ],
   "source": [
    "todo_raw[['loc_neigh']].head()"
   ]
  },
  {
   "cell_type": "code",
   "execution_count": 98,
   "metadata": {},
   "outputs": [
    {
     "name": "stdout",
     "output_type": "stream",
     "text": [
      "Cantidad de valores únicos\n",
      "17061 \n",
      "\n",
      "Cantidad de valores NaN\n",
      "56310 \n",
      "\n",
      "Porcentaje de valores NaN sobre el total\n",
      "56.31\n"
     ]
    }
   ],
   "source": [
    "print('Cantidad de valores únicos')\n",
    "print(todo_raw['loc_neigh'].nunique(), '\\n')\n",
    "print('Cantidad de valores NaN')\n",
    "print(todo_raw['loc_neigh'].isna().sum(), '\\n')\n",
    "print('Porcentaje de valores NaN sobre el total')\n",
    "print(todo_raw['loc_neigh'].isna().mean()*100)"
   ]
  },
  {
   "cell_type": "markdown",
   "metadata": {},
   "source": [
    "Demasiados valores nulos, eliminaremos la columna"
   ]
  },
  {
   "cell_type": "code",
   "execution_count": 99,
   "metadata": {},
   "outputs": [],
   "source": [
    "todo_raw = todo_raw.drop(columns=['loc_neigh'])"
   ]
  },
  {
   "cell_type": "markdown",
   "metadata": {},
   "source": [
    "### COLUMNA: loc_street"
   ]
  },
  {
   "cell_type": "code",
   "execution_count": 100,
   "metadata": {},
   "outputs": [
    {
     "data": {
      "text/html": [
       "<div>\n",
       "<style scoped>\n",
       "    .dataframe tbody tr th:only-of-type {\n",
       "        vertical-align: middle;\n",
       "    }\n",
       "\n",
       "    .dataframe tbody tr th {\n",
       "        vertical-align: top;\n",
       "    }\n",
       "\n",
       "    .dataframe thead th {\n",
       "        text-align: right;\n",
       "    }\n",
       "</style>\n",
       "<table border=\"1\" class=\"dataframe\">\n",
       "  <thead>\n",
       "    <tr style=\"text-align: right;\">\n",
       "      <th></th>\n",
       "      <th>loc_street</th>\n",
       "    </tr>\n",
       "  </thead>\n",
       "  <tbody>\n",
       "    <tr>\n",
       "      <th>0</th>\n",
       "      <td>NaN</td>\n",
       "    </tr>\n",
       "    <tr>\n",
       "      <th>1</th>\n",
       "      <td>NaN</td>\n",
       "    </tr>\n",
       "    <tr>\n",
       "      <th>2</th>\n",
       "      <td>NaN</td>\n",
       "    </tr>\n",
       "    <tr>\n",
       "      <th>3</th>\n",
       "      <td>NaN</td>\n",
       "    </tr>\n",
       "    <tr>\n",
       "      <th>4</th>\n",
       "      <td>NaN</td>\n",
       "    </tr>\n",
       "  </tbody>\n",
       "</table>\n",
       "</div>"
      ],
      "text/plain": [
       "  loc_street\n",
       "0        NaN\n",
       "1        NaN\n",
       "2        NaN\n",
       "3        NaN\n",
       "4        NaN"
      ]
     },
     "execution_count": 100,
     "metadata": {},
     "output_type": "execute_result"
    }
   ],
   "source": [
    "todo_raw[['loc_street']].head()"
   ]
  },
  {
   "cell_type": "code",
   "execution_count": 101,
   "metadata": {},
   "outputs": [
    {
     "name": "stdout",
     "output_type": "stream",
     "text": [
      "Cantidad de valores únicos\n",
      "9901 \n",
      "\n",
      "Cantidad de valores NaN\n",
      "85686 \n",
      "\n",
      "Porcentaje de valores NaN sobre el total\n",
      "85.68599999999999\n"
     ]
    }
   ],
   "source": [
    "print('Cantidad de valores únicos')\n",
    "print(todo_raw['loc_street'].nunique(), '\\n')\n",
    "print('Cantidad de valores NaN')\n",
    "print(todo_raw['loc_street'].isna().sum(), '\\n')\n",
    "print('Porcentaje de valores NaN sobre el total')\n",
    "print(todo_raw['loc_street'].isna().mean()*100)"
   ]
  },
  {
   "cell_type": "markdown",
   "metadata": {},
   "source": [
    "Demasiados valores nulos. Eliminaremos la columna"
   ]
  },
  {
   "cell_type": "code",
   "execution_count": 102,
   "metadata": {},
   "outputs": [],
   "source": [
    "todo_raw = todo_raw.drop(columns=['loc_street'])"
   ]
  },
  {
   "cell_type": "markdown",
   "metadata": {},
   "source": [
    "### COLUMNA: loc_zone"
   ]
  },
  {
   "cell_type": "code",
   "execution_count": 103,
   "metadata": {},
   "outputs": [
    {
     "data": {
      "text/html": [
       "<div>\n",
       "<style scoped>\n",
       "    .dataframe tbody tr th:only-of-type {\n",
       "        vertical-align: middle;\n",
       "    }\n",
       "\n",
       "    .dataframe tbody tr th {\n",
       "        vertical-align: top;\n",
       "    }\n",
       "\n",
       "    .dataframe thead th {\n",
       "        text-align: right;\n",
       "    }\n",
       "</style>\n",
       "<table border=\"1\" class=\"dataframe\">\n",
       "  <thead>\n",
       "    <tr style=\"text-align: right;\">\n",
       "      <th></th>\n",
       "      <th>loc_zone</th>\n",
       "    </tr>\n",
       "  </thead>\n",
       "  <tbody>\n",
       "    <tr>\n",
       "      <th>0</th>\n",
       "      <td>Zuya, Álava</td>\n",
       "    </tr>\n",
       "    <tr>\n",
       "      <th>1</th>\n",
       "      <td>Zuya, Álava</td>\n",
       "    </tr>\n",
       "    <tr>\n",
       "      <th>2</th>\n",
       "      <td>Zuya, Álava</td>\n",
       "    </tr>\n",
       "    <tr>\n",
       "      <th>3</th>\n",
       "      <td>Zuya, Álava</td>\n",
       "    </tr>\n",
       "    <tr>\n",
       "      <th>4</th>\n",
       "      <td>Zuya, Álava</td>\n",
       "    </tr>\n",
       "  </tbody>\n",
       "</table>\n",
       "</div>"
      ],
      "text/plain": [
       "      loc_zone\n",
       "0  Zuya, Álava\n",
       "1  Zuya, Álava\n",
       "2  Zuya, Álava\n",
       "3  Zuya, Álava\n",
       "4  Zuya, Álava"
      ]
     },
     "execution_count": 103,
     "metadata": {},
     "output_type": "execute_result"
    }
   ],
   "source": [
    "todo_raw[['loc_zone']].head()"
   ]
  },
  {
   "cell_type": "code",
   "execution_count": 104,
   "metadata": {},
   "outputs": [
    {
     "name": "stdout",
     "output_type": "stream",
     "text": [
      "Cantidad de valores únicos\n",
      "95 \n",
      "\n",
      "Cantidad de valores NaN\n",
      "0 \n",
      "\n",
      "Porcentaje de valores NaN sobre el total\n",
      "0.0\n"
     ]
    }
   ],
   "source": [
    "print('Cantidad de valores únicos')\n",
    "print(todo_raw['loc_zone'].nunique(), '\\n')\n",
    "print('Cantidad de valores NaN')\n",
    "print(todo_raw['loc_zone'].isna().sum(), '\\n')\n",
    "print('Porcentaje de valores NaN sobre el total')\n",
    "print(todo_raw['loc_zone'].isna().mean()*100)"
   ]
  },
  {
   "cell_type": "code",
   "execution_count": 105,
   "metadata": {},
   "outputs": [],
   "source": [
    "todo_raw.loc[todo_raw['loc_zone'] == 'loc_zone', 'loc_zone'] = 'indefinido'"
   ]
  },
  {
   "cell_type": "code",
   "execution_count": 106,
   "metadata": {},
   "outputs": [],
   "source": [
    "todo_raw['loc_zone'] = todo_raw['loc_zone'].fillna('indefinido')\n",
    "todo_raw['loc_zone'] = todo_raw['loc_zone'].astype(str)"
   ]
  },
  {
   "cell_type": "markdown",
   "metadata": {},
   "source": [
    "### COLUMNA: m2_real"
   ]
  },
  {
   "cell_type": "code",
   "execution_count": 107,
   "metadata": {},
   "outputs": [
    {
     "data": {
      "text/html": [
       "<div>\n",
       "<style scoped>\n",
       "    .dataframe tbody tr th:only-of-type {\n",
       "        vertical-align: middle;\n",
       "    }\n",
       "\n",
       "    .dataframe tbody tr th {\n",
       "        vertical-align: top;\n",
       "    }\n",
       "\n",
       "    .dataframe thead th {\n",
       "        text-align: right;\n",
       "    }\n",
       "</style>\n",
       "<table border=\"1\" class=\"dataframe\">\n",
       "  <thead>\n",
       "    <tr style=\"text-align: right;\">\n",
       "      <th></th>\n",
       "      <th>m2_real</th>\n",
       "    </tr>\n",
       "  </thead>\n",
       "  <tbody>\n",
       "    <tr>\n",
       "      <th>0</th>\n",
       "      <td>1000</td>\n",
       "    </tr>\n",
       "    <tr>\n",
       "      <th>1</th>\n",
       "      <td>86</td>\n",
       "    </tr>\n",
       "    <tr>\n",
       "      <th>2</th>\n",
       "      <td>3000</td>\n",
       "    </tr>\n",
       "    <tr>\n",
       "      <th>3</th>\n",
       "      <td>86</td>\n",
       "    </tr>\n",
       "    <tr>\n",
       "      <th>4</th>\n",
       "      <td>76</td>\n",
       "    </tr>\n",
       "  </tbody>\n",
       "</table>\n",
       "</div>"
      ],
      "text/plain": [
       "  m2_real\n",
       "0    1000\n",
       "1      86\n",
       "2    3000\n",
       "3      86\n",
       "4      76"
      ]
     },
     "execution_count": 107,
     "metadata": {},
     "output_type": "execute_result"
    }
   ],
   "source": [
    "todo_raw[['m2_real']].head()"
   ]
  },
  {
   "cell_type": "code",
   "execution_count": 108,
   "metadata": {},
   "outputs": [
    {
     "name": "stdout",
     "output_type": "stream",
     "text": [
      "Cantidad de valores únicos\n",
      "4507 \n",
      "\n",
      "Cantidad de valores NaN\n",
      "0 \n",
      "\n",
      "Porcentaje de valores NaN sobre el total\n",
      "0.0\n"
     ]
    }
   ],
   "source": [
    "print('Cantidad de valores únicos')\n",
    "print(todo_raw['m2_real'].nunique(), '\\n')\n",
    "print('Cantidad de valores NaN')\n",
    "print(todo_raw['m2_real'].isna().sum(), '\\n')\n",
    "print('Porcentaje de valores NaN sobre el total')\n",
    "print(todo_raw['m2_real'].isna().mean()*100)"
   ]
  },
  {
   "cell_type": "code",
   "execution_count": 109,
   "metadata": {},
   "outputs": [
    {
     "data": {
      "text/plain": [
       "array([1000, 86, 3000, ..., '3910', '7460', '7180'], dtype=object)"
      ]
     },
     "execution_count": 109,
     "metadata": {},
     "output_type": "execute_result"
    }
   ],
   "source": [
    "todo_raw['m2_real'].unique()"
   ]
  },
  {
   "cell_type": "code",
   "execution_count": 110,
   "metadata": {},
   "outputs": [],
   "source": [
    "todo_raw.loc[todo_raw['m2_real'] == 'm2_real', 'm2_real'] = 0"
   ]
  },
  {
   "cell_type": "code",
   "execution_count": 111,
   "metadata": {},
   "outputs": [],
   "source": [
    "todo_raw['m2_real'] = todo_raw['m2_real'].fillna(0)\n",
    "todo_raw['m2_real'] = todo_raw['m2_real'].astype(int)"
   ]
  },
  {
   "cell_type": "markdown",
   "metadata": {},
   "source": [
    "### COLUMNA: m2_useful"
   ]
  },
  {
   "cell_type": "code",
   "execution_count": 112,
   "metadata": {},
   "outputs": [
    {
     "data": {
      "text/html": [
       "<div>\n",
       "<style scoped>\n",
       "    .dataframe tbody tr th:only-of-type {\n",
       "        vertical-align: middle;\n",
       "    }\n",
       "\n",
       "    .dataframe tbody tr th {\n",
       "        vertical-align: top;\n",
       "    }\n",
       "\n",
       "    .dataframe thead th {\n",
       "        text-align: right;\n",
       "    }\n",
       "</style>\n",
       "<table border=\"1\" class=\"dataframe\">\n",
       "  <thead>\n",
       "    <tr style=\"text-align: right;\">\n",
       "      <th></th>\n",
       "      <th>m2_useful</th>\n",
       "    </tr>\n",
       "  </thead>\n",
       "  <tbody>\n",
       "    <tr>\n",
       "      <th>0</th>\n",
       "      <td>172.0</td>\n",
       "    </tr>\n",
       "    <tr>\n",
       "      <th>1</th>\n",
       "      <td>NaN</td>\n",
       "    </tr>\n",
       "    <tr>\n",
       "      <th>2</th>\n",
       "      <td>NaN</td>\n",
       "    </tr>\n",
       "    <tr>\n",
       "      <th>3</th>\n",
       "      <td>NaN</td>\n",
       "    </tr>\n",
       "    <tr>\n",
       "      <th>4</th>\n",
       "      <td>74.0</td>\n",
       "    </tr>\n",
       "  </tbody>\n",
       "</table>\n",
       "</div>"
      ],
      "text/plain": [
       "  m2_useful\n",
       "0     172.0\n",
       "1       NaN\n",
       "2       NaN\n",
       "3       NaN\n",
       "4      74.0"
      ]
     },
     "execution_count": 112,
     "metadata": {},
     "output_type": "execute_result"
    }
   ],
   "source": [
    "todo_raw[['m2_useful']].head()"
   ]
  },
  {
   "cell_type": "code",
   "execution_count": 113,
   "metadata": {},
   "outputs": [
    {
     "name": "stdout",
     "output_type": "stream",
     "text": [
      "Cantidad de valores únicos\n",
      "1168 \n",
      "\n",
      "Cantidad de valores NaN\n",
      "47156 \n",
      "\n",
      "Porcentaje de valores NaN sobre el total\n",
      "47.156\n"
     ]
    }
   ],
   "source": [
    "print('Cantidad de valores únicos')\n",
    "print(todo_raw['m2_useful'].nunique(), '\\n')\n",
    "print('Cantidad de valores NaN')\n",
    "print(todo_raw['m2_useful'].isna().sum(), '\\n')\n",
    "print('Porcentaje de valores NaN sobre el total')\n",
    "print(todo_raw['m2_useful'].isna().mean()*100)"
   ]
  },
  {
   "cell_type": "code",
   "execution_count": 114,
   "metadata": {},
   "outputs": [],
   "source": [
    "todo_raw.loc[todo_raw['m2_useful'] == 'm2_useful', 'm2_useful'] = 0"
   ]
  },
  {
   "cell_type": "code",
   "execution_count": 115,
   "metadata": {},
   "outputs": [],
   "source": [
    "todo_raw['m2_useful'] = todo_raw['m2_useful'].astype(float)"
   ]
  },
  {
   "cell_type": "code",
   "execution_count": 116,
   "metadata": {},
   "outputs": [
    {
     "data": {
      "text/plain": [
       "140.02891529785785"
      ]
     },
     "execution_count": 116,
     "metadata": {},
     "output_type": "execute_result"
    }
   ],
   "source": [
    "todo_raw['m2_useful'].mean()"
   ]
  },
  {
   "cell_type": "markdown",
   "metadata": {},
   "source": [
    "Vemos que tenemos una gran cantidad de valores nulos. Sin embargo, la columna de m2_useful podría ser bastante representativa para nuestro análisis así que no vamos a eliminarla, sino que vamos a rellenar los valores nulos con la media de los valores numéricos que sí tenemos, para así no interferir en la media. (Aunque sí estaremos interfiriendo mucho en otras medidas como la varianza)"
   ]
  },
  {
   "cell_type": "code",
   "execution_count": 117,
   "metadata": {},
   "outputs": [],
   "source": [
    "todo_raw['m2_useful'] = todo_raw['m2_useful'].fillna(todo_raw['m2_useful'].mean())"
   ]
  },
  {
   "cell_type": "markdown",
   "metadata": {},
   "source": [
    "### COLUMNA: obtention_date"
   ]
  },
  {
   "cell_type": "code",
   "execution_count": 118,
   "metadata": {},
   "outputs": [
    {
     "data": {
      "text/html": [
       "<div>\n",
       "<style scoped>\n",
       "    .dataframe tbody tr th:only-of-type {\n",
       "        vertical-align: middle;\n",
       "    }\n",
       "\n",
       "    .dataframe tbody tr th {\n",
       "        vertical-align: top;\n",
       "    }\n",
       "\n",
       "    .dataframe thead th {\n",
       "        text-align: right;\n",
       "    }\n",
       "</style>\n",
       "<table border=\"1\" class=\"dataframe\">\n",
       "  <thead>\n",
       "    <tr style=\"text-align: right;\">\n",
       "      <th></th>\n",
       "      <th>obtention_date</th>\n",
       "    </tr>\n",
       "  </thead>\n",
       "  <tbody>\n",
       "    <tr>\n",
       "      <th>0</th>\n",
       "      <td>2019-03-29</td>\n",
       "    </tr>\n",
       "    <tr>\n",
       "      <th>1</th>\n",
       "      <td>2019-03-29</td>\n",
       "    </tr>\n",
       "    <tr>\n",
       "      <th>2</th>\n",
       "      <td>2019-03-29</td>\n",
       "    </tr>\n",
       "    <tr>\n",
       "      <th>3</th>\n",
       "      <td>2019-03-29</td>\n",
       "    </tr>\n",
       "    <tr>\n",
       "      <th>4</th>\n",
       "      <td>2019-03-29</td>\n",
       "    </tr>\n",
       "  </tbody>\n",
       "</table>\n",
       "</div>"
      ],
      "text/plain": [
       "  obtention_date\n",
       "0     2019-03-29\n",
       "1     2019-03-29\n",
       "2     2019-03-29\n",
       "3     2019-03-29\n",
       "4     2019-03-29"
      ]
     },
     "execution_count": 118,
     "metadata": {},
     "output_type": "execute_result"
    }
   ],
   "source": [
    "todo_raw[['obtention_date']].head()"
   ]
  },
  {
   "cell_type": "markdown",
   "metadata": {},
   "source": [
    "Esta columna nos muestra la fecha en la que los datos fueron obtenidos pero no nos da información sobre las viviendas. La eliminamos."
   ]
  },
  {
   "cell_type": "code",
   "execution_count": 119,
   "metadata": {},
   "outputs": [],
   "source": [
    "todo_raw = todo_raw.drop(columns=['obtention_date'])"
   ]
  },
  {
   "cell_type": "markdown",
   "metadata": {},
   "source": [
    "### COLUMNA: orientation"
   ]
  },
  {
   "cell_type": "code",
   "execution_count": 120,
   "metadata": {},
   "outputs": [
    {
     "data": {
      "text/html": [
       "<div>\n",
       "<style scoped>\n",
       "    .dataframe tbody tr th:only-of-type {\n",
       "        vertical-align: middle;\n",
       "    }\n",
       "\n",
       "    .dataframe tbody tr th {\n",
       "        vertical-align: top;\n",
       "    }\n",
       "\n",
       "    .dataframe thead th {\n",
       "        text-align: right;\n",
       "    }\n",
       "</style>\n",
       "<table border=\"1\" class=\"dataframe\">\n",
       "  <thead>\n",
       "    <tr style=\"text-align: right;\">\n",
       "      <th></th>\n",
       "      <th>orientation</th>\n",
       "    </tr>\n",
       "  </thead>\n",
       "  <tbody>\n",
       "    <tr>\n",
       "      <th>0</th>\n",
       "      <td>norte, sur, este, oeste</td>\n",
       "    </tr>\n",
       "    <tr>\n",
       "      <th>1</th>\n",
       "      <td>NaN</td>\n",
       "    </tr>\n",
       "    <tr>\n",
       "      <th>2</th>\n",
       "      <td>NaN</td>\n",
       "    </tr>\n",
       "    <tr>\n",
       "      <th>3</th>\n",
       "      <td>NaN</td>\n",
       "    </tr>\n",
       "    <tr>\n",
       "      <th>4</th>\n",
       "      <td>sur, oeste</td>\n",
       "    </tr>\n",
       "  </tbody>\n",
       "</table>\n",
       "</div>"
      ],
      "text/plain": [
       "               orientation\n",
       "0  norte, sur, este, oeste\n",
       "1                      NaN\n",
       "2                      NaN\n",
       "3                      NaN\n",
       "4               sur, oeste"
      ]
     },
     "execution_count": 120,
     "metadata": {},
     "output_type": "execute_result"
    }
   ],
   "source": [
    "todo_raw[['orientation']].head()"
   ]
  },
  {
   "cell_type": "code",
   "execution_count": 121,
   "metadata": {},
   "outputs": [
    {
     "name": "stdout",
     "output_type": "stream",
     "text": [
      "Cantidad de valores únicos\n",
      "16 \n",
      "\n",
      "Cantidad de valores NaN\n",
      "60585 \n",
      "\n",
      "Porcentaje de valores NaN sobre el total\n",
      "60.585\n"
     ]
    }
   ],
   "source": [
    "print('Cantidad de valores únicos')\n",
    "print(todo_raw['orientation'].nunique(), '\\n')\n",
    "print('Cantidad de valores NaN')\n",
    "print(todo_raw['orientation'].isna().sum(), '\\n')\n",
    "print('Porcentaje de valores NaN sobre el total')\n",
    "print(todo_raw['orientation'].isna().mean()*100)"
   ]
  },
  {
   "cell_type": "code",
   "execution_count": 122,
   "metadata": {},
   "outputs": [
    {
     "data": {
      "text/plain": [
       "array(['norte, sur, este, oeste', nan, 'sur, oeste', 'sur', 'sur, este',\n",
       "       'este', 'oeste', 'norte, sur, oeste', 'norte, este, oeste',\n",
       "       'norte, sur, este', 'norte', 'este, oeste', 'norte, oeste',\n",
       "       'norte, sur', 'sur, este, oeste', 'norte, este', 'orientation'],\n",
       "      dtype=object)"
      ]
     },
     "execution_count": 122,
     "metadata": {},
     "output_type": "execute_result"
    }
   ],
   "source": [
    "todo_raw['orientation'].unique()"
   ]
  },
  {
   "cell_type": "markdown",
   "metadata": {},
   "source": [
    "Vemos que tenemos 16 valores únicos para la orientación. Decidimos no usar esta columna."
   ]
  },
  {
   "cell_type": "code",
   "execution_count": 123,
   "metadata": {},
   "outputs": [],
   "source": [
    "todo_raw = todo_raw.drop(columns=['orientation'])"
   ]
  },
  {
   "cell_type": "markdown",
   "metadata": {},
   "source": [
    "### COLUMNA: price"
   ]
  },
  {
   "cell_type": "code",
   "execution_count": 124,
   "metadata": {},
   "outputs": [
    {
     "data": {
      "text/html": [
       "<div>\n",
       "<style scoped>\n",
       "    .dataframe tbody tr th:only-of-type {\n",
       "        vertical-align: middle;\n",
       "    }\n",
       "\n",
       "    .dataframe tbody tr th {\n",
       "        vertical-align: top;\n",
       "    }\n",
       "\n",
       "    .dataframe thead th {\n",
       "        text-align: right;\n",
       "    }\n",
       "</style>\n",
       "<table border=\"1\" class=\"dataframe\">\n",
       "  <thead>\n",
       "    <tr style=\"text-align: right;\">\n",
       "      <th></th>\n",
       "      <th>price</th>\n",
       "    </tr>\n",
       "  </thead>\n",
       "  <tbody>\n",
       "    <tr>\n",
       "      <th>0</th>\n",
       "      <td>310000</td>\n",
       "    </tr>\n",
       "    <tr>\n",
       "      <th>1</th>\n",
       "      <td>139000</td>\n",
       "    </tr>\n",
       "    <tr>\n",
       "      <th>2</th>\n",
       "      <td>480000</td>\n",
       "    </tr>\n",
       "    <tr>\n",
       "      <th>3</th>\n",
       "      <td>150000</td>\n",
       "    </tr>\n",
       "    <tr>\n",
       "      <th>4</th>\n",
       "      <td>90000</td>\n",
       "    </tr>\n",
       "  </tbody>\n",
       "</table>\n",
       "</div>"
      ],
      "text/plain": [
       "    price\n",
       "0  310000\n",
       "1  139000\n",
       "2  480000\n",
       "3  150000\n",
       "4   90000"
      ]
     },
     "execution_count": 124,
     "metadata": {},
     "output_type": "execute_result"
    }
   ],
   "source": [
    "todo_raw[['price']].head()"
   ]
  },
  {
   "cell_type": "code",
   "execution_count": 125,
   "metadata": {},
   "outputs": [
    {
     "name": "stdout",
     "output_type": "stream",
     "text": [
      "Cantidad de valores únicos\n",
      "7045 \n",
      "\n",
      "Cantidad de valores NaN\n",
      "0 \n",
      "\n",
      "Porcentaje de valores NaN sobre el total\n",
      "0.0\n"
     ]
    }
   ],
   "source": [
    "print('Cantidad de valores únicos')\n",
    "print(todo_raw['price'].nunique(), '\\n')\n",
    "print('Cantidad de valores NaN')\n",
    "print(todo_raw['price'].isna().sum(), '\\n')\n",
    "print('Porcentaje de valores NaN sobre el total')\n",
    "print(todo_raw['price'].isna().mean()*100)"
   ]
  },
  {
   "cell_type": "code",
   "execution_count": 126,
   "metadata": {},
   "outputs": [
    {
     "data": {
      "text/plain": [
       "array([310000, 139000, 480000, ..., '129600', '198900', '51425'],\n",
       "      dtype=object)"
      ]
     },
     "execution_count": 126,
     "metadata": {},
     "output_type": "execute_result"
    }
   ],
   "source": [
    "todo_raw['price'].unique()"
   ]
  },
  {
   "cell_type": "code",
   "execution_count": 127,
   "metadata": {},
   "outputs": [],
   "source": [
    "todo_raw.loc[todo_raw['price'] == 'price', 'price'] = 0"
   ]
  },
  {
   "cell_type": "code",
   "execution_count": 128,
   "metadata": {},
   "outputs": [],
   "source": [
    "todo_raw['price'] = todo_raw['price'].fillna(0)\n",
    "todo_raw['price'] = todo_raw['price'].astype(int)"
   ]
  },
  {
   "cell_type": "markdown",
   "metadata": {},
   "source": [
    "### COLUMNA: reduced_mobility"
   ]
  },
  {
   "cell_type": "code",
   "execution_count": 129,
   "metadata": {},
   "outputs": [
    {
     "data": {
      "text/html": [
       "<div>\n",
       "<style scoped>\n",
       "    .dataframe tbody tr th:only-of-type {\n",
       "        vertical-align: middle;\n",
       "    }\n",
       "\n",
       "    .dataframe tbody tr th {\n",
       "        vertical-align: top;\n",
       "    }\n",
       "\n",
       "    .dataframe thead th {\n",
       "        text-align: right;\n",
       "    }\n",
       "</style>\n",
       "<table border=\"1\" class=\"dataframe\">\n",
       "  <thead>\n",
       "    <tr style=\"text-align: right;\">\n",
       "      <th></th>\n",
       "      <th>reduced_mobility</th>\n",
       "    </tr>\n",
       "  </thead>\n",
       "  <tbody>\n",
       "    <tr>\n",
       "      <th>0</th>\n",
       "      <td>0</td>\n",
       "    </tr>\n",
       "    <tr>\n",
       "      <th>1</th>\n",
       "      <td>1</td>\n",
       "    </tr>\n",
       "    <tr>\n",
       "      <th>2</th>\n",
       "      <td>0</td>\n",
       "    </tr>\n",
       "    <tr>\n",
       "      <th>3</th>\n",
       "      <td>0</td>\n",
       "    </tr>\n",
       "    <tr>\n",
       "      <th>4</th>\n",
       "      <td>0</td>\n",
       "    </tr>\n",
       "  </tbody>\n",
       "</table>\n",
       "</div>"
      ],
      "text/plain": [
       "  reduced_mobility\n",
       "0                0\n",
       "1                1\n",
       "2                0\n",
       "3                0\n",
       "4                0"
      ]
     },
     "execution_count": 129,
     "metadata": {},
     "output_type": "execute_result"
    }
   ],
   "source": [
    "todo_raw[['reduced_mobility']].head()"
   ]
  },
  {
   "cell_type": "code",
   "execution_count": 130,
   "metadata": {},
   "outputs": [
    {
     "name": "stdout",
     "output_type": "stream",
     "text": [
      "Cantidad de valores únicos\n",
      "5 \n",
      "\n",
      "Cantidad de valores NaN\n",
      "0 \n",
      "\n",
      "Porcentaje de valores NaN sobre el total\n",
      "0.0\n"
     ]
    }
   ],
   "source": [
    "print('Cantidad de valores únicos')\n",
    "print(todo_raw['reduced_mobility'].nunique(), '\\n')\n",
    "print('Cantidad de valores NaN')\n",
    "print(todo_raw['reduced_mobility'].isna().sum(), '\\n')\n",
    "print('Porcentaje de valores NaN sobre el total')\n",
    "print(todo_raw['reduced_mobility'].isna().mean()*100)"
   ]
  },
  {
   "cell_type": "code",
   "execution_count": 131,
   "metadata": {},
   "outputs": [
    {
     "data": {
      "text/plain": [
       "array([0, 1, '0', '1', 'reduced_mobility'], dtype=object)"
      ]
     },
     "execution_count": 131,
     "metadata": {},
     "output_type": "execute_result"
    }
   ],
   "source": [
    "todo_raw['reduced_mobility'].unique()"
   ]
  },
  {
   "cell_type": "code",
   "execution_count": 132,
   "metadata": {},
   "outputs": [],
   "source": [
    "todo_raw.loc[todo_raw['reduced_mobility'] == 'reduced_mobility', 'reduced_mobility'] = 0\n",
    "todo_raw.loc[todo_raw['reduced_mobility'] == '0', 'reduced_mobility'] = 0\n",
    "todo_raw.loc[todo_raw['reduced_mobility'] == '1', 'reduced_mobility'] = 1"
   ]
  },
  {
   "cell_type": "code",
   "execution_count": 133,
   "metadata": {},
   "outputs": [],
   "source": [
    "todo_raw['reduced_mobility'] = todo_raw['reduced_mobility'].fillna(0)\n",
    "todo_raw['reduced_mobility'] = todo_raw['reduced_mobility'].astype(bool)"
   ]
  },
  {
   "cell_type": "markdown",
   "metadata": {},
   "source": [
    "### COLUMNA: room_num"
   ]
  },
  {
   "cell_type": "code",
   "execution_count": 134,
   "metadata": {},
   "outputs": [
    {
     "data": {
      "text/html": [
       "<div>\n",
       "<style scoped>\n",
       "    .dataframe tbody tr th:only-of-type {\n",
       "        vertical-align: middle;\n",
       "    }\n",
       "\n",
       "    .dataframe tbody tr th {\n",
       "        vertical-align: top;\n",
       "    }\n",
       "\n",
       "    .dataframe thead th {\n",
       "        text-align: right;\n",
       "    }\n",
       "</style>\n",
       "<table border=\"1\" class=\"dataframe\">\n",
       "  <thead>\n",
       "    <tr style=\"text-align: right;\">\n",
       "      <th></th>\n",
       "      <th>room_num</th>\n",
       "    </tr>\n",
       "  </thead>\n",
       "  <tbody>\n",
       "    <tr>\n",
       "      <th>0</th>\n",
       "      <td>4</td>\n",
       "    </tr>\n",
       "    <tr>\n",
       "      <th>1</th>\n",
       "      <td>3</td>\n",
       "    </tr>\n",
       "    <tr>\n",
       "      <th>2</th>\n",
       "      <td>4</td>\n",
       "    </tr>\n",
       "    <tr>\n",
       "      <th>3</th>\n",
       "      <td>4</td>\n",
       "    </tr>\n",
       "    <tr>\n",
       "      <th>4</th>\n",
       "      <td>2</td>\n",
       "    </tr>\n",
       "  </tbody>\n",
       "</table>\n",
       "</div>"
      ],
      "text/plain": [
       "  room_num\n",
       "0        4\n",
       "1        3\n",
       "2        4\n",
       "3        4\n",
       "4        2"
      ]
     },
     "execution_count": 134,
     "metadata": {},
     "output_type": "execute_result"
    }
   ],
   "source": [
    "todo_raw[['room_num']].head()"
   ]
  },
  {
   "cell_type": "code",
   "execution_count": 135,
   "metadata": {},
   "outputs": [
    {
     "name": "stdout",
     "output_type": "stream",
     "text": [
      "Cantidad de valores únicos\n",
      "36 \n",
      "\n",
      "Cantidad de valores NaN\n",
      "0 \n",
      "\n",
      "Porcentaje de valores NaN sobre el total\n",
      "0.0\n"
     ]
    }
   ],
   "source": [
    "print('Cantidad de valores únicos')\n",
    "print(todo_raw['room_num'].nunique(), '\\n')\n",
    "print('Cantidad de valores NaN')\n",
    "print(todo_raw['room_num'].isna().sum(), '\\n')\n",
    "print('Porcentaje de valores NaN sobre el total')\n",
    "print(todo_raw['room_num'].isna().mean()*100)"
   ]
  },
  {
   "cell_type": "code",
   "execution_count": 136,
   "metadata": {},
   "outputs": [
    {
     "data": {
      "text/plain": [
       "array(['4', '3', '2', '7', '5', '1', '8', '13', 'sin habitación', '6',\n",
       "       '9', '10', '15', '12', '30', '18', '35', 'room_num', '17', '14',\n",
       "       '11', '16', '36', '84', '20', '22', '65', '24', '23', '32', '25',\n",
       "       '34', '26', '56', '58', '73'], dtype=object)"
      ]
     },
     "execution_count": 136,
     "metadata": {},
     "output_type": "execute_result"
    }
   ],
   "source": [
    "todo_raw['room_num'].unique()"
   ]
  },
  {
   "cell_type": "code",
   "execution_count": 137,
   "metadata": {},
   "outputs": [],
   "source": [
    "todo_raw.loc[todo_raw['room_num'] == 'room_num', 'room_num'] = 0\n",
    "todo_raw.loc[todo_raw['room_num'] == 'sin habitación', 'room_num'] = 0"
   ]
  },
  {
   "cell_type": "code",
   "execution_count": 138,
   "metadata": {},
   "outputs": [],
   "source": [
    "todo_raw['room_num'] = todo_raw['room_num'].fillna(0)\n",
    "todo_raw['room_num'] = todo_raw['room_num'].astype(int)"
   ]
  },
  {
   "cell_type": "markdown",
   "metadata": {},
   "source": [
    "### COLUMNA: storage room"
   ]
  },
  {
   "cell_type": "code",
   "execution_count": 139,
   "metadata": {},
   "outputs": [
    {
     "data": {
      "text/html": [
       "<div>\n",
       "<style scoped>\n",
       "    .dataframe tbody tr th:only-of-type {\n",
       "        vertical-align: middle;\n",
       "    }\n",
       "\n",
       "    .dataframe tbody tr th {\n",
       "        vertical-align: top;\n",
       "    }\n",
       "\n",
       "    .dataframe thead th {\n",
       "        text-align: right;\n",
       "    }\n",
       "</style>\n",
       "<table border=\"1\" class=\"dataframe\">\n",
       "  <thead>\n",
       "    <tr style=\"text-align: right;\">\n",
       "      <th></th>\n",
       "      <th>storage_room</th>\n",
       "    </tr>\n",
       "  </thead>\n",
       "  <tbody>\n",
       "    <tr>\n",
       "      <th>0</th>\n",
       "      <td>0</td>\n",
       "    </tr>\n",
       "    <tr>\n",
       "      <th>1</th>\n",
       "      <td>1</td>\n",
       "    </tr>\n",
       "    <tr>\n",
       "      <th>2</th>\n",
       "      <td>1</td>\n",
       "    </tr>\n",
       "    <tr>\n",
       "      <th>3</th>\n",
       "      <td>1</td>\n",
       "    </tr>\n",
       "    <tr>\n",
       "      <th>4</th>\n",
       "      <td>1</td>\n",
       "    </tr>\n",
       "  </tbody>\n",
       "</table>\n",
       "</div>"
      ],
      "text/plain": [
       "  storage_room\n",
       "0            0\n",
       "1            1\n",
       "2            1\n",
       "3            1\n",
       "4            1"
      ]
     },
     "execution_count": 139,
     "metadata": {},
     "output_type": "execute_result"
    }
   ],
   "source": [
    "todo_raw[['storage_room']].head()"
   ]
  },
  {
   "cell_type": "code",
   "execution_count": 140,
   "metadata": {},
   "outputs": [
    {
     "name": "stdout",
     "output_type": "stream",
     "text": [
      "Cantidad de valores únicos\n",
      "5 \n",
      "\n",
      "Cantidad de valores NaN\n",
      "0 \n",
      "\n",
      "Porcentaje de valores NaN sobre el total\n",
      "0.0\n"
     ]
    }
   ],
   "source": [
    "print('Cantidad de valores únicos')\n",
    "print(todo_raw['storage_room'].nunique(), '\\n')\n",
    "print('Cantidad de valores NaN')\n",
    "print(todo_raw['storage_room'].isna().sum(), '\\n')\n",
    "print('Porcentaje de valores NaN sobre el total')\n",
    "print(todo_raw['storage_room'].isna().mean()*100)"
   ]
  },
  {
   "cell_type": "code",
   "execution_count": 141,
   "metadata": {},
   "outputs": [
    {
     "data": {
      "text/plain": [
       "array([0, 1, '1', '0', 'storage_room'], dtype=object)"
      ]
     },
     "execution_count": 141,
     "metadata": {},
     "output_type": "execute_result"
    }
   ],
   "source": [
    "todo_raw['storage_room'].unique()"
   ]
  },
  {
   "cell_type": "code",
   "execution_count": 142,
   "metadata": {},
   "outputs": [],
   "source": [
    "todo_raw.loc[todo_raw['storage_room'] == 'storage_room', 'storage_room'] = 0\n",
    "todo_raw.loc[todo_raw['storage_room'] == '0', 'storage_room'] = 0\n",
    "todo_raw.loc[todo_raw['storage_room'] == '1', 'storage_room'] = 1"
   ]
  },
  {
   "cell_type": "code",
   "execution_count": 143,
   "metadata": {},
   "outputs": [],
   "source": [
    "todo_raw['storage_room'] = todo_raw['storage_room'].fillna(0)\n",
    "todo_raw['storage_room'] = todo_raw['storage_room'].astype(bool)"
   ]
  },
  {
   "cell_type": "markdown",
   "metadata": {},
   "source": [
    "### COLUMNA: swimming_pool"
   ]
  },
  {
   "cell_type": "code",
   "execution_count": 144,
   "metadata": {},
   "outputs": [
    {
     "data": {
      "text/html": [
       "<div>\n",
       "<style scoped>\n",
       "    .dataframe tbody tr th:only-of-type {\n",
       "        vertical-align: middle;\n",
       "    }\n",
       "\n",
       "    .dataframe tbody tr th {\n",
       "        vertical-align: top;\n",
       "    }\n",
       "\n",
       "    .dataframe thead th {\n",
       "        text-align: right;\n",
       "    }\n",
       "</style>\n",
       "<table border=\"1\" class=\"dataframe\">\n",
       "  <thead>\n",
       "    <tr style=\"text-align: right;\">\n",
       "      <th></th>\n",
       "      <th>swimming_pool</th>\n",
       "    </tr>\n",
       "  </thead>\n",
       "  <tbody>\n",
       "    <tr>\n",
       "      <th>0</th>\n",
       "      <td>0</td>\n",
       "    </tr>\n",
       "    <tr>\n",
       "      <th>1</th>\n",
       "      <td>0</td>\n",
       "    </tr>\n",
       "    <tr>\n",
       "      <th>2</th>\n",
       "      <td>0</td>\n",
       "    </tr>\n",
       "    <tr>\n",
       "      <th>3</th>\n",
       "      <td>0</td>\n",
       "    </tr>\n",
       "    <tr>\n",
       "      <th>4</th>\n",
       "      <td>1</td>\n",
       "    </tr>\n",
       "  </tbody>\n",
       "</table>\n",
       "</div>"
      ],
      "text/plain": [
       "  swimming_pool\n",
       "0             0\n",
       "1             0\n",
       "2             0\n",
       "3             0\n",
       "4             1"
      ]
     },
     "execution_count": 144,
     "metadata": {},
     "output_type": "execute_result"
    }
   ],
   "source": [
    "todo_raw[['swimming_pool']].head()"
   ]
  },
  {
   "cell_type": "code",
   "execution_count": 145,
   "metadata": {},
   "outputs": [
    {
     "name": "stdout",
     "output_type": "stream",
     "text": [
      "Cantidad de valores únicos\n",
      "5 \n",
      "\n",
      "Cantidad de valores NaN\n",
      "0 \n",
      "\n",
      "Porcentaje de valores NaN sobre el total\n",
      "0.0\n"
     ]
    }
   ],
   "source": [
    "print('Cantidad de valores únicos')\n",
    "print(todo_raw['swimming_pool'].nunique(), '\\n')\n",
    "print('Cantidad de valores NaN')\n",
    "print(todo_raw['swimming_pool'].isna().sum(), '\\n')\n",
    "print('Porcentaje de valores NaN sobre el total')\n",
    "print(todo_raw['swimming_pool'].isna().mean()*100)"
   ]
  },
  {
   "cell_type": "code",
   "execution_count": 146,
   "metadata": {},
   "outputs": [
    {
     "data": {
      "text/plain": [
       "array([0, 1, '0', '1', 'swimming_pool'], dtype=object)"
      ]
     },
     "execution_count": 146,
     "metadata": {},
     "output_type": "execute_result"
    }
   ],
   "source": [
    "todo_raw['swimming_pool'].unique()"
   ]
  },
  {
   "cell_type": "code",
   "execution_count": 147,
   "metadata": {},
   "outputs": [],
   "source": [
    "todo_raw.loc[todo_raw['swimming_pool'] == 'swimming_pool', 'swimming_pool'] = 0\n",
    "todo_raw.loc[todo_raw['swimming_pool'] == '0', 'swimming_pool'] = 0\n",
    "todo_raw.loc[todo_raw['swimming_pool'] == '1', 'swimming_pool'] = 1"
   ]
  },
  {
   "cell_type": "code",
   "execution_count": 148,
   "metadata": {},
   "outputs": [],
   "source": [
    "todo_raw['swimming_pool'] = todo_raw['swimming_pool'].fillna(0)\n",
    "todo_raw['swimming_pool'] = todo_raw['swimming_pool'].astype(bool)"
   ]
  },
  {
   "cell_type": "markdown",
   "metadata": {},
   "source": [
    "### COLUMNA: terrace"
   ]
  },
  {
   "cell_type": "code",
   "execution_count": 149,
   "metadata": {},
   "outputs": [
    {
     "data": {
      "text/html": [
       "<div>\n",
       "<style scoped>\n",
       "    .dataframe tbody tr th:only-of-type {\n",
       "        vertical-align: middle;\n",
       "    }\n",
       "\n",
       "    .dataframe tbody tr th {\n",
       "        vertical-align: top;\n",
       "    }\n",
       "\n",
       "    .dataframe thead th {\n",
       "        text-align: right;\n",
       "    }\n",
       "</style>\n",
       "<table border=\"1\" class=\"dataframe\">\n",
       "  <thead>\n",
       "    <tr style=\"text-align: right;\">\n",
       "      <th></th>\n",
       "      <th>terrace</th>\n",
       "    </tr>\n",
       "  </thead>\n",
       "  <tbody>\n",
       "    <tr>\n",
       "      <th>0</th>\n",
       "      <td>1</td>\n",
       "    </tr>\n",
       "    <tr>\n",
       "      <th>1</th>\n",
       "      <td>0</td>\n",
       "    </tr>\n",
       "    <tr>\n",
       "      <th>2</th>\n",
       "      <td>1</td>\n",
       "    </tr>\n",
       "    <tr>\n",
       "      <th>3</th>\n",
       "      <td>1</td>\n",
       "    </tr>\n",
       "    <tr>\n",
       "      <th>4</th>\n",
       "      <td>1</td>\n",
       "    </tr>\n",
       "  </tbody>\n",
       "</table>\n",
       "</div>"
      ],
      "text/plain": [
       "  terrace\n",
       "0       1\n",
       "1       0\n",
       "2       1\n",
       "3       1\n",
       "4       1"
      ]
     },
     "execution_count": 149,
     "metadata": {},
     "output_type": "execute_result"
    }
   ],
   "source": [
    "todo_raw[['terrace']].head()"
   ]
  },
  {
   "cell_type": "code",
   "execution_count": 150,
   "metadata": {},
   "outputs": [
    {
     "name": "stdout",
     "output_type": "stream",
     "text": [
      "Cantidad de valores únicos\n",
      "5 \n",
      "\n",
      "Cantidad de valores NaN\n",
      "0 \n",
      "\n",
      "Porcentaje de valores NaN sobre el total\n",
      "0.0\n"
     ]
    }
   ],
   "source": [
    "print('Cantidad de valores únicos')\n",
    "print(todo_raw['terrace'].nunique(), '\\n')\n",
    "print('Cantidad de valores NaN')\n",
    "print(todo_raw['terrace'].isna().sum(), '\\n')\n",
    "print('Porcentaje de valores NaN sobre el total')\n",
    "print(todo_raw['terrace'].isna().mean()*100)"
   ]
  },
  {
   "cell_type": "code",
   "execution_count": 151,
   "metadata": {},
   "outputs": [
    {
     "data": {
      "text/plain": [
       "array([1, 0, '1', '0', 'terrace'], dtype=object)"
      ]
     },
     "execution_count": 151,
     "metadata": {},
     "output_type": "execute_result"
    }
   ],
   "source": [
    "todo_raw['terrace'].unique()"
   ]
  },
  {
   "cell_type": "code",
   "execution_count": 152,
   "metadata": {},
   "outputs": [],
   "source": [
    "todo_raw.loc[todo_raw['terrace'] == 'terrace', 'terrace'] = 0\n",
    "todo_raw.loc[todo_raw['terrace'] == '0', 'terrace'] = 0\n",
    "todo_raw.loc[todo_raw['terrace'] == '1', 'terrace'] = 1"
   ]
  },
  {
   "cell_type": "code",
   "execution_count": 153,
   "metadata": {},
   "outputs": [],
   "source": [
    "todo_raw['terrace'] = todo_raw['terrace'].fillna(0)\n",
    "todo_raw['terrace'] = todo_raw['terrace'].astype(bool)"
   ]
  },
  {
   "cell_type": "markdown",
   "metadata": {},
   "source": [
    "### COLUMNA: unfurnished"
   ]
  },
  {
   "cell_type": "code",
   "execution_count": 154,
   "metadata": {},
   "outputs": [
    {
     "data": {
      "text/html": [
       "<div>\n",
       "<style scoped>\n",
       "    .dataframe tbody tr th:only-of-type {\n",
       "        vertical-align: middle;\n",
       "    }\n",
       "\n",
       "    .dataframe tbody tr th {\n",
       "        vertical-align: top;\n",
       "    }\n",
       "\n",
       "    .dataframe thead th {\n",
       "        text-align: right;\n",
       "    }\n",
       "</style>\n",
       "<table border=\"1\" class=\"dataframe\">\n",
       "  <thead>\n",
       "    <tr style=\"text-align: right;\">\n",
       "      <th></th>\n",
       "      <th>unfurnished</th>\n",
       "    </tr>\n",
       "  </thead>\n",
       "  <tbody>\n",
       "    <tr>\n",
       "      <th>0</th>\n",
       "      <td>NaN</td>\n",
       "    </tr>\n",
       "    <tr>\n",
       "      <th>1</th>\n",
       "      <td>NaN</td>\n",
       "    </tr>\n",
       "    <tr>\n",
       "      <th>2</th>\n",
       "      <td>NaN</td>\n",
       "    </tr>\n",
       "    <tr>\n",
       "      <th>3</th>\n",
       "      <td>NaN</td>\n",
       "    </tr>\n",
       "    <tr>\n",
       "      <th>4</th>\n",
       "      <td>NaN</td>\n",
       "    </tr>\n",
       "  </tbody>\n",
       "</table>\n",
       "</div>"
      ],
      "text/plain": [
       "  unfurnished\n",
       "0         NaN\n",
       "1         NaN\n",
       "2         NaN\n",
       "3         NaN\n",
       "4         NaN"
      ]
     },
     "execution_count": 154,
     "metadata": {},
     "output_type": "execute_result"
    }
   ],
   "source": [
    "todo_raw[['unfurnished']].head()"
   ]
  },
  {
   "cell_type": "code",
   "execution_count": 155,
   "metadata": {},
   "outputs": [
    {
     "name": "stdout",
     "output_type": "stream",
     "text": [
      "Cantidad de valores únicos\n",
      "3 \n",
      "\n",
      "Cantidad de valores NaN\n",
      "99354 \n",
      "\n",
      "Porcentaje de valores NaN sobre el total\n",
      "99.354\n"
     ]
    }
   ],
   "source": [
    "print('Cantidad de valores únicos')\n",
    "print(todo_raw['unfurnished'].nunique(), '\\n')\n",
    "print('Cantidad de valores NaN')\n",
    "print(todo_raw['unfurnished'].isna().sum(), '\\n')\n",
    "print('Porcentaje de valores NaN sobre el total')\n",
    "print(todo_raw['unfurnished'].isna().mean()*100)"
   ]
  },
  {
   "cell_type": "markdown",
   "metadata": {},
   "source": [
    "Demasiados valores nulos. Eliminamos la columna"
   ]
  },
  {
   "cell_type": "code",
   "execution_count": 156,
   "metadata": {},
   "outputs": [],
   "source": [
    "todo_raw = todo_raw.drop(columns=['unfurnished'])"
   ]
  },
  {
   "cell_type": "markdown",
   "metadata": {},
   "source": [
    "## Renombrar las columnas"
   ]
  },
  {
   "cell_type": "markdown",
   "metadata": {},
   "source": [
    "Vamos a renombrar las columnas para que contengan nombres en castellano más fáciles de manipular"
   ]
  },
  {
   "cell_type": "code",
   "execution_count": 157,
   "metadata": {},
   "outputs": [],
   "source": [
    "nuevas_columnas = {'ad_description' : 'descripcion',\n",
    "                   'air_conditioner' : 'aire_acondicionado',\n",
    "                   'balcony' : 'balcon',\n",
    "                   'bath_num' : 'num_banios',\n",
    "                   'built_in_wardrobe' : 'armario_empotrado',\n",
    "                   'chimney' : 'chimenea',\n",
    "                   'condition' : 'condicion',\n",
    "                   'garden' : 'jardin',\n",
    "                   'house_type' : 'tipo_vivienda',\n",
    "                   'lift' : 'ascensor',\n",
    "                   'loc_city' : 'ciudad',\n",
    "                   'loc_district' : 'calle_num',\n",
    "                   'loc_full' : 'direccion_com',\n",
    "                   'loc_zone' : 'zona_y_provincia',\n",
    "                   'm2_real' : 'm2_reales',\n",
    "                   'm2_useful' : 'm2_utiles',\n",
    "                   'price' : 'precio',\n",
    "                   'reduced_mobility' : 'movilidad_reducida',\n",
    "                   'room_num' : 'num_habitaciones',\n",
    "                   'storage_room' : 'trastero',\n",
    "                   'swimming_pool' : 'piscina',\n",
    "                   'terrace' : 'terraza'\n",
    "                   }\n",
    "\n",
    "todo_raw = todo_raw.rename(columns=nuevas_columnas)"
   ]
  },
  {
   "cell_type": "code",
   "execution_count": 158,
   "metadata": {},
   "outputs": [],
   "source": [
    "viviendas = todo_raw"
   ]
  },
  {
   "cell_type": "code",
   "execution_count": 159,
   "metadata": {},
   "outputs": [],
   "source": [
    "#viviendas.to_csv('viviendas.csv',index=False)"
   ]
  }
 ],
 "metadata": {
  "kernelspec": {
   "display_name": "Python 3",
   "language": "python",
   "name": "python3"
  },
  "language_info": {
   "codemirror_mode": {
    "name": "ipython",
    "version": 3
   },
   "file_extension": ".py",
   "mimetype": "text/x-python",
   "name": "python",
   "nbconvert_exporter": "python",
   "pygments_lexer": "ipython3",
   "version": "3.11.5"
  }
 },
 "nbformat": 4,
 "nbformat_minor": 2
}
