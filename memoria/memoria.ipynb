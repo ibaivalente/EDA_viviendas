{
 "cells": [
  {
   "cell_type": "markdown",
   "metadata": {},
   "source": [
    "En este proyecto hemos analizado las principales características de viviendas a la venta en la plataforma de Idealista mediante la ténica del EDA (análisis de datos exploratorio). \n",
    "\n",
    "Para llevar a cabo este análisis hemos usado una base de datos encontrada en Kaggle que contiene 20 archivos CSV, cada uno correspondiente a una provincia diferente, que contienen información sobre viviendas a la venta en Idealista obtenidos en 2019. Esta información corresponde a las diferentes clasificaciones que puede usar el usuario para describir su vivienda.\n",
    "\n",
    "El primer paso en este análisis de datos exploratorio ha sido la limpieza de los datos y su procesado para poder hacer el análisis de forma correcta. Todas nuestras tablas contenían las mismas 36 columnas por lo que concatenarlas ha sido relativamente sencillo. No obstante, en este proceso nos hemos encontrado varias dificultades, como el hecho de que Pandas no reconociera la fila con los nombres de las columnas como headers, por lo que al hacer el concatenado, hemos tenido que adaptar algunas filas para que los nombres de las columnas de las diferentes tablas no volvieran a aparecer en nuestro dataframe completo. Además de ello, Pandas ha convertido todas las variables al tipo objeto, por lo que hemos tenido que hacer una conversión de tipos de cada columna para poder hacer los debidos cálculos con cada una de ellas.\n",
    "\n",
    "A la hora de limpiar las columnas y decidir cuáles eran útiles para nuestro análisis, hemos tenido en cuenta diferentes factores:\n",
    "\n",
    "La razón principal de descartar una variable ha sido la falta de datos. En cada una de las columnas hemos comprobado la cantidad de celdas nulas y hemos valorado qué podíamos hacer con ella. Si la cantidad de NaN era demasiado alta, hemos descartado esa columna. En los casos en los que la cantidad de nulos era más aceptable, los hemos rellenado con diferentes valores. En ocasiones hemos introducido un string de 'indefinido', en las variables numéricas hemos incluido la media de valores para no afectar a la media (a pesar de sí afectar a medidas como la desviación típica) y en el caso de las variables booleanas hemos dado por hecho que si el anuncio no incluye información sobre una característica del piso significa que no lo incluye. Es decir, si el usuario ha decidido no incluir información sobre si la vivienda contiene o no jardín, hemos supuesto que no contiene.\n",
    "\n",
    "Finalmente, nos hemos quedado con una tabla de 21 columnas de diferentes tipos y sin valores nulos, que hemos procedido a analizar:\n",
    "\n",
    "Hemos estructurado el análisis por tipo de dato de las variables. Primero hemos analizado las variables booleanas, después las de tipo integer y finalmente las de tipo string. En cada caso hemos utilizado la visualización adecuada, dependiendo del la cantidad de variables que queríamos analizar y el tipo de dato de las mismas. En muchas ocasiones hemos tenido que acotar nuestro análisis mediante máscaras para filtrar los resultados y conseguir visualizaciones verdaderamente representativas. Dependiendo de la visualización que queríamos llevar a cabo, hemos usado una librería diferente, siendo las principales Matplotlib y Seaborn."
   ]
  }
 ],
 "metadata": {
  "language_info": {
   "name": "python"
  }
 },
 "nbformat": 4,
 "nbformat_minor": 2
}
